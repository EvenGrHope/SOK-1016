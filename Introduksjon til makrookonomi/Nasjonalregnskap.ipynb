{
 "cells": [
  {
   "cell_type": "markdown",
   "id": "7e1db3d3-8f65-4c73-963d-4ced33236ad9",
   "metadata": {},
   "source": [
    "## Nasjonalregnskap"
   ]
  },
  {
   "cell_type": "code",
   "execution_count": 1,
   "id": "9b6ad8b4-5590-4262-a6a2-ee2a3d475a0f",
   "metadata": {},
   "outputs": [],
   "source": [
    "# Laster inn pakker\n",
    "import numpy as np\n",
    "from sympy import *\n",
    "from matplotlib import pyplot as plt"
   ]
  },
  {
   "cell_type": "markdown",
   "id": "e9f7ffee-923c-4f1e-bfcb-6f55314e5528",
   "metadata": {},
   "source": [
    "<hr/>"
   ]
  },
  {
   "cell_type": "markdown",
   "id": "78c27a68-84b5-44c9-a87c-99db0dd610d5",
   "metadata": {},
   "source": [
    "#### Innføring i nasjonalregnskap"
   ]
  },
  {
   "cell_type": "markdown",
   "id": "38ea95ba-d20a-40b7-b5d2-241c7dbc9983",
   "metadata": {},
   "source": [
    "<br> **Nasjonalregnskap**\n",
    "<br> Nasjonalregnskap - regnskapet til en nasjon som helhet, f.eks. \"AS Norge\".\n",
    "<br> Nasjonalregnskapet måles i det landets lokale valutta, f.eks. i Norges måles det i kroner. \n",
    "<br> Nasjonalregnskapet gir et bilde av tilstanden og utviklingen til landets økonomi som helhet.\n",
    "<br>\n",
    "<br> **Sentrale størrelser**\n",
    "<br> Y = Bruttonasjonalprodukt (BNP)\n",
    "<br> C = Privat konsum\n",
    "<br> I = Brutto realinvesteringer\n",
    "<br> G = Offentlig konsum\n",
    "<br> X = Eksport\n",
    "<br> Q = Import\n",
    "<br> NX = Handelsbalanse/Nettoeksport\n",
    "<br> CA = Driftbalanse\n",
    "<br> NNP = Nettonasjonalprodukt\n",
    "<br> D = Kapitalslit\n",
    "<br> F = Netto løns- og formueinntekter og inntektsoverføring fra utlandet\n",
    "<br> R = Disponibel inntekt\n",
    "<br> S = Samlet sparing\n",
    "<br>\n",
    "<br> **Sentrale sammenhenger**\n",
    "<br> Generalbudsjettligningen/Realligningen: $Y = C + I + G + X - Q$\n",
    "<br> Nettoeksport: $NX = X - Q$\n",
    "<br> Nettonasjonalprodukt: $NNP = Y - D$\n",
    "<br> Disponibel inntekt: $R = NNP + F$\n",
    "<br> Driftbalanse: $CA = NX + F$\n",
    "<br> Samlet sparing: $S = (I - D) + CA$\n",
    "<br> Samlet sparing: $S = R - C- G$"
   ]
  },
  {
   "cell_type": "markdown",
   "id": "e76eb9ae-9cae-4cfd-9771-6f44b20c0464",
   "metadata": {},
   "source": [
    "<hr/>"
   ]
  },
  {
   "cell_type": "markdown",
   "id": "af19e7f7-cb5b-422f-9ac6-af1883935178",
   "metadata": {},
   "source": [
    "#### Generalbudsjettet og NNP"
   ]
  },
  {
   "cell_type": "markdown",
   "id": "64295e1a-d75c-4138-892e-f10e96298153",
   "metadata": {},
   "source": [
    "<br> **BNP**\n",
    "<br> Verdien av det som skapes i ett land er BNP.\n",
    "<br> BNP = privat konsum (C) + offentlig konsum (G) + bruttoinvestering i reallkapital (I) + eksport (X) - import (Q)\n",
    "<br> Vi skal nå se på disse leddene som tilsammen blir BNP.\n",
    "<br>\n",
    "<br> *Privat konsum (C)* = Konsumenters innkjøp/forbruk. F.eks. klær, mat eller reise.\n",
    "<br> *Offentlig konsum (G)* = Forbruk/innkjøp av offentlige forvaltning. F.eks. vare- og tjenestekjøp eller lønninger til offentlig ansatte.\n",
    "<br> *Bruttoinvestering i realkapital (I)* = Nyinvesteringer i mindre omsettelige eiendelere. F.eks. byggninger, bolig, maskiner og varelager. \n",
    "<br> *Eksport (X)* = Eksport av varer og tjenester til utlandet. F.eks. laks og olje.\n",
    "<br> *Import (Q)* = Import av varer og tjenester fra utlandet. F.eks. biler, frukt og grønnsaker.\n",
    "<br>\n",
    "<br> **Sammenhenger**\n",
    "<br> *Nettoeksport (NX)* = Eksport (X) - Import (Q).\n",
    "<br> Nettoeksport viser differansen mellom eksport og import.\n",
    "<br> Q > X $\\rightarrow$ NX < 0 (landet har importert mer enn det har eksportert)\n",
    "<br> Q < X $\\rightarrow$ NX > 0 (landet har importert mindre enn det har eksportert)\n",
    "<br>\n",
    "<br> Verdien av produserte varer og tjenester + import = Verdien av tilgang på varer og tjenester gjennom ett år. Vi kan også skrive det slik:\n",
    "<br> BNP + Import (Q) = Priavt konsum (C) + Offentlig konsum (G) + Bruttoinvisteringer i realkapital (I) + Eksport (X)\n",
    "<br>\n",
    "<br> **Generalbudsjett**\n",
    "<br> BNP + Q = C + G + I + X\n",
    "<br> Vi ønsker å få BNP alene på venstre side, vi flytter derfor over Q og skifter fortegn.\n",
    "<br> BNP = C + G + I + X - Q\n",
    "<br> Så vet vi fra tidligere at nettoeksport (NX) = X - Q\n",
    "<br> BNP = C + G + I + NX\n",
    "<br> Dette er ligningen for generalbudsjettet.\n",
    "<br>\n",
    "<br> **Nettonasjonalprodukt (NNP)**\n",
    "<br> BNP korrigerer for verdien av produktinnsats (varene som går med til produksjonen).\n",
    "<br> BNP korrigerer ikke for kapitalslit. Altså slitasje på det som brukes i produksjonen over flere år, f.eks. fabrikker, maskiner og transportmiddel.\n",
    "<br> Konsekvensene av dette er at BNP kan overdriver den egentlige verdiskapningen i ett land. \n",
    "<br> Det er her nettonasjonalprodukt (NNP) kommer inn i bilde. \n",
    "<br> Nettonasjonalprodukt (NNP) = BNP fratrukket kapitalslit (D). Her trekkes kapitalsliten (D) av alle bedrifter i landet.\n",
    "<br> NNP = BNP - D\n",
    "<br> Visst vi setter inn for BNP i denne formelen får vi:\n",
    "<br> NNP = C + G + (I - D) + NX\n",
    "<br> Her betegner (I - D) differansen mellom bruttoinvestering i realkapital og kapitalslit. Vi betegner denne differansen som NI.\n",
    "<br> NI = I - D"
   ]
  },
  {
   "cell_type": "markdown",
   "id": "6b667af9-fd09-43dc-81e3-b62983733e2f",
   "metadata": {},
   "source": [
    "<hr/>"
   ]
  },
  {
   "cell_type": "markdown",
   "id": "5ea0307b-ebab-4a83-a9a6-8d5600a17661",
   "metadata": {},
   "source": [
    "#### Disponibel inntekt, sparing og driftbalansen overfor utlandet"
   ]
  },
  {
   "cell_type": "markdown",
   "id": "b3e73196-6d78-4c66-8d62-00d6ae1e7370",
   "metadata": {},
   "source": [
    "<br> **Nasjoners inntekt**\n",
    "<br> BNP består av alle innenlands verdiskapning, det medregnes verdiskapning i norske bedrifter eid av utlendiger, men medregner ikke verdiskapningen av utenlandske bedrifter eid av nordmenn. \n",
    "<br> Det er i dag svært vanlig å gjøre investeringer på tværs av landegrenser. Det vil si at norske investorer kan investere i f.eks. aksjer som er notert på børsen i England, og engelske investorer kan investere i aksjer som er notert på børsen i Norge. Vi kan også f.eks. bo i Spania, men motta lønn fra Norge. \n",
    "<br> En nasjons inntekt kalles i nasjonalregnskapet for *disponibel inntekt* \n",
    "<br> \n",
    "<br> **Disponibel inntekt** \n",
    "<br> Nettonasjonalprodukt (NNP) pluss formuesinntekt, lønn og løpende overføringer fra utlandet, netto.\n",
    "<br> Formuesinntekt er f.eks utbytte av aksjer og renteinntekter på investeringer i utlandet. \n",
    "<br> Visst du er innbygger i et land, men lønnsmottaker i et annet land, så vil den lønna du mottar inngå i BNP'en til det landet du mottar lønn fra, men også inngå i landet du bor i sin disponible inntekt. \n",
    "<br> Eksempel på en overføring fra utlandet kan være bistand. I Norge er denne størrelsen negativ siden vi har høyere verdier på de løpende overføringene som går ut av Norge enn de som kommer inn. \n",
    "<br> Med netto menes det at det er differansen mellom pengestrømmen som kommer inn i landet og de som går ut av landet som brukes i disponibel inntekt. \n",
    "<br> Disponibel inntekt har følgende formel:\n",
    "<br> R = Disponibel inntekt\n",
    "<br> NNP = Nettonasjonlprodukt\n",
    "<br> F = Formuesinntekt, lønn og løpende overføringer fra utlandet, netto\n",
    "<br> $R = NNP + F$\n",
    "<br>\n",
    "<br> **Sparing**\n",
    "<br> Den delen av den disponible inntekten et land har som ikke blir brukt til konsum.\n",
    "<br> Sparing har følgende formel:\n",
    "<br> S = Sparing\n",
    "<br> R = Disponibel inntekt\n",
    "<br> C = Privat konsum \n",
    "<br> G = Offentlig konsum\n",
    "<br> $S = R - C - G$\n",
    "<br> Staten, bedrifter og konsumenter bidrar til et lands sparing. \n",
    "<br> I Norge har staten lenge hatt høy sparing, siden de har spart oljeinntektene i *statens pensjonsfondt utland (oljefondet)*.\n",
    "<br> Bedrifter kan spare med å holde tilbake overskuddet.\n",
    "<br> Konsumenter kan spare med å ikke bruke opp hele inntekten. \n",
    "<br>\n",
    "<br> **Driftbalansen overfor utlandet**\n",
    "<br> I dag skjer mye økonomisk aktivitet på tvers av landegrenser. Vi eksporterer og imoporterer varer som har eierskap i utlandet, og kan både låne ut og ta opp lån internasjonalt. \n",
    "<br> I nasjonalregnskapet er en viktig størrelse *overskudd på driftbalanse overfor utlandet (CA)*.\n",
    "<br> Formelen for overskudd på *driftbalanse overfor utlandet* er som følger:\n",
    "<br> CA = Overskudd på driftbalanse overfor utlandet\n",
    "<br> NX = Netto eksport\n",
    "<br> F = Formuesinntekt, lønn og løpende overføringer fra utlandet, netto\n",
    "<br> $CA = NX + F$\n",
    "<br> Denne størrelsen måler verdien på overskuddet av de pengestrømmene som landet mottar fra utlandet. \n",
    "<br> $CA < 0 \\rightarrow$ Overskudd på driftbalanse overfor utlandet $\\rightarrow$ Kapitaleksportør, f.eks. Norge\n",
    "<br> $CA > 0 \\rightarrow$ Underskudd på driftbalanse overfor utlandet $\\rightarrow$ Kapitalimportør, f.eks. USA\n",
    "<br>\n",
    "<br> **Sammenhenger**\n",
    "<br> Vi skal nå se på at formelen for sparing kan skrives på to måter:\n",
    "<br> $S = R - C - G \\rightarrow\\rightarrow\\rightarrow S = NI + CA$\n",
    "<br> Vi starter med formelen for sparing:\n",
    "<br> $S = R - C - G$\n",
    "<br> Så putter vi inn utrykket for disponibel inntelt (R):\n",
    "<br> $S = NNP + F - C - G$\n",
    "<br> Så putter vi inn utrykket for nettonasjonalprodukt (NNP):\n",
    "<br> $S = C + G + NI + NX + F - C - G$\n",
    "<br> Vi ser at C og G går mot hverandre og kan da skrive det slik:\n",
    "<br> $S = NI + NX + F$\n",
    "<br> Vi vet også fra tidligere at $NX + F = $ Driftbalanse overfor utlandet (CA):\n",
    "<br> $S = NI + CA$\n",
    "<br> Da ser vi at sparing kan skrives på to måter:\n",
    "<br> $S = R - C - G \\rightarrow\\rightarrow\\rightarrow S = NI + CA$\n",
    "<br> Sparing er altså lik nettoinvestering i realkapital pluss overskuddet på driftbalansen overfor utlandet."
   ]
  },
  {
   "cell_type": "markdown",
   "id": "de226407-fc40-4ce1-abff-08e7d010fe90",
   "metadata": {},
   "source": [
    "<hr/>"
   ]
  },
  {
   "cell_type": "markdown",
   "id": "21f0a74f-4f79-4434-83c3-2e076e49bfea",
   "metadata": {},
   "source": [
    "#### Nasjonalregnskaps-beregning (oppgave)"
   ]
  },
  {
   "cell_type": "markdown",
   "id": "823c6436-20c7-4cdb-af69-478efdf7ad07",
   "metadata": {},
   "source": [
    "<br> For å løse oppgaven nedenfor trenger vi disse notasjonene:\n",
    "<br> Generalbudsjettligningen: $Y = C + I + G + X - Q$\n",
    "<br> Kapitalslit: $D = BNP - NNP$\n",
    "<br> Nettorealinvestering: $Nettorealinvestering = I - D$\n",
    "<br> Landets disponible inntekt: $R = NNP + F$\n",
    "<br> Landets sparing: $S = R - C- G$"
   ]
  },
  {
   "cell_type": "markdown",
   "id": "f46eae18-37c5-42e3-b174-0890a19c0406",
   "metadata": {},
   "source": [
    "<br> Opplysningene vi har tilgjengelig er som følger (tallene er i milliarder):\n",
    "<br> Privat konsum (C) = 1000\n",
    "<br> Offentlig konsum (G) = 1500\n",
    "<br> Eksport (X) = 600\n",
    "<br> Import (Q) = 450\n",
    "<br> Bruttorealinvestering (I) = 800\n",
    "<br> NNP = 3200\n",
    "<br> Lønns- og formueinntekter og overføringer fra utlandet (F) = -100\n",
    "<br> Med dette som utgangspunkt skal vi beregne ulike størrelser:\n",
    "<br> a) BNP\n",
    "<br> b) Kapitalslit\n",
    "<br> c) Nettorealinvestering\n",
    "<br> d) Disponibel inntekt\n",
    "<br> e) Landets sparing"
   ]
  },
  {
   "cell_type": "markdown",
   "id": "21a5bde6-3021-474c-8a02-18b3f6400175",
   "metadata": {},
   "source": [
    "<br> Oppgave a)\n",
    "<br> $Y = C + I + G + X - Q$\n",
    "<br> $Y = 1000 + 800 + 1500 + 600 - 450$\n",
    "<br> $Y = 3450$\n",
    "<br>\n",
    "<br> Oppgave b)\n",
    "<br> $D = BNP - NNP$\n",
    "<br> $D = 3450 - 3200$\n",
    "<br> $D = 250$\n",
    "<br>\n",
    "<br> Oppgave c)\n",
    "<br> $Nettorealinvestering = I - D$\n",
    "<br> $Nettorealinvestering = 800 - 250$\n",
    "<br> $Nettorealinvestering = 550$\n",
    "<br> \n",
    "<br> Oppgave d)\n",
    "<br> $R = NNP + F$\n",
    "<br> $R = 3200 + (-100)$\n",
    "<br> $R = 3100$\n",
    "<br> \n",
    "<br> Oppgave e)\n",
    "<br> $S = R - C- G$\n",
    "<br> $S = 3100 - 1000 - 1500$\n",
    "<br> $S = 600$"
   ]
  }
 ],
 "metadata": {
  "kernelspec": {
   "display_name": "Python 3 (ipykernel)",
   "language": "python",
   "name": "python3"
  },
  "language_info": {
   "codemirror_mode": {
    "name": "ipython",
    "version": 3
   },
   "file_extension": ".py",
   "mimetype": "text/x-python",
   "name": "python",
   "nbconvert_exporter": "python",
   "pygments_lexer": "ipython3",
   "version": "3.9.15"
  }
 },
 "nbformat": 4,
 "nbformat_minor": 5
}
