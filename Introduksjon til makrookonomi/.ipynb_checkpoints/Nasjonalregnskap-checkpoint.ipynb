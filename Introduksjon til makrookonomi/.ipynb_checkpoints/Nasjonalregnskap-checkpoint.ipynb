{
 "cells": [
  {
   "cell_type": "markdown",
   "id": "7e1db3d3-8f65-4c73-963d-4ced33236ad9",
   "metadata": {},
   "source": [
    "## Nasjonalregnskap"
   ]
  },
  {
   "cell_type": "code",
   "execution_count": 1,
   "id": "9b6ad8b4-5590-4262-a6a2-ee2a3d475a0f",
   "metadata": {},
   "outputs": [],
   "source": [
    "# Laster inn pakker\n",
    "import numpy as np\n",
    "from sympy import *\n",
    "from matplotlib import pyplot as plt"
   ]
  },
  {
   "cell_type": "markdown",
   "id": "e9f7ffee-923c-4f1e-bfcb-6f55314e5528",
   "metadata": {},
   "source": [
    "<hr/>"
   ]
  },
  {
   "cell_type": "markdown",
   "id": "78c27a68-84b5-44c9-a87c-99db0dd610d5",
   "metadata": {},
   "source": [
    "#### Innføring i nasjonalregnskap"
   ]
  },
  {
   "cell_type": "markdown",
   "id": "38ea95ba-d20a-40b7-b5d2-241c7dbc9983",
   "metadata": {},
   "source": [
    "<br> **Nasjonalregnskap**\n",
    "<br> Nasjonalregnskap - regnskapet til en nasjon som helhet, f.eks. \"AS Norge\".\n",
    "<br> Nasjonalregnskapet måles i det landets lokale valutta, f.eks. i Norges måles det i kroner. \n",
    "<br> Nasjonalregnskapet gir et bilde av tilstanden og utviklingen til landets økonomi som helhet.\n",
    "<br>\n",
    "<br> **Sentrale størrelser**\n",
    "<br> Y = Bruttonasjonalprodukt (BNP)\n",
    "<br> C = Privat konsum\n",
    "<br> I = Brutto realinvesteringer\n",
    "<br> G = Offentlig konsum\n",
    "<br> X = Eksport\n",
    "<br> Q = Import\n",
    "<br> NX = Handelsbalanse/Nettoeksport\n",
    "<br> CA = Driftbalanse\n",
    "<br> NNP = Nettonasjonalprodukt\n",
    "<br> D = Kapitalslit\n",
    "<br> F = Netto løns- og formueinntekter og inntektsoverføring fra utlandet\n",
    "<br> R = Disponibel inntekt\n",
    "<br> S = Samlet sparing\n",
    "<br>\n",
    "<br> **Sentrale sammenhenger**\n",
    "<br> Generalbudsjettligningen/Realligningen: $Y = C + I + G + X - Q$\n",
    "<br> Nettoeksport: $NX = X - Q$\n",
    "<br> Nettonasjonalprodukt: $NNP = Y - D$\n",
    "<br> Disponibel inntekt: $R = NNP + F$\n",
    "<br> Driftbalanse: $CA = NX + F$\n",
    "<br> Samlet sparing: $S = (I - D) + CA$\n",
    "<br> Samlet sparing: $S = R - C- G$"
   ]
  },
  {
   "cell_type": "markdown",
   "id": "e76eb9ae-9cae-4cfd-9771-6f44b20c0464",
   "metadata": {},
   "source": [
    "<hr/>"
   ]
  },
  {
   "cell_type": "markdown",
   "id": "af19e7f7-cb5b-422f-9ac6-af1883935178",
   "metadata": {},
   "source": [
    "#### Generalbudsjettet og NNP"
   ]
  },
  {
   "cell_type": "markdown",
   "id": "64295e1a-d75c-4138-892e-f10e96298153",
   "metadata": {},
   "source": [
    "<br> **BNP**\n",
    "<br> Verdien av det som skapes i ett land er BNP.\n",
    "<br> BNP = privat konsum (C) + offentlig konsum (G) + bruttoinvestering i reallkapital (I) + eksport (X) - import (Q)\n",
    "<br> Vi skal nå se på disse leddene som tilsammen blir BNP.\n",
    "<br>\n",
    "<br> *Privat konsum (C)* = Konsumenters innkjøp/forbruk. F.eks. klær, mat eller reise.\n",
    "<br> *Offentlig konsum (G)* = Forbruk/innkjøp av offentlige forvaltning. F.eks. vare- og tjenestekjøp eller lønninger til offentlig ansatte.\n",
    "<br> *Bruttoinvestering i realkapital (I)* = Nyinvesteringer i mindre omsettelige eiendelere. F.eks. byggninger, bolig, maskiner og varelager. \n",
    "<br> *Eksport (X)* = Eksport av varer og tjenester til utlandet. F.eks. laks og olje.\n",
    "<br> *Import (Q)* = Import av varer og tjenester fra utlandet. F.eks. biler, frukt og grønnsaker.\n",
    "<br>\n",
    "<br> **Sammenhenger**\n",
    "<br> *Nettoeksport (NX)* = Eksport (X) - Import (Q).\n",
    "<br> Nettoeksport viser differansen mellom eksport og import.\n",
    "<br> Q > X $\\rightarrow$ NX < 0 (landet har importert mer enn det har eksportert)\n",
    "<br> Q < X $\\rightarrow$ NX > 0 (landet har importert mindre enn det har eksportert)\n",
    "<br>\n",
    "<br> Verdien av produserte varer og tjenester + import = Verdien av tilgang på varer og tjenester gjennom ett år. Vi kan også skrive det slik:\n",
    "<br> BNP + Import (Q) = Priavt konsum (C) + Offentlig konsum (G) + Bruttoinvisteringer i realkapital (I) + Eksport (X)\n",
    "<br>\n",
    "<br> **Generalbudsjett**\n",
    "<br> BNP + Q = C + G + I + X\n",
    "<br> Vi ønsker å få BNP alene på venstre side, vi flytter derfor over Q og skifter fortegn.\n",
    "<br> BNP = C + G + I + X - Q\n",
    "<br> Så vet vi fra tidligere at nettoeksport (NX) = X - Q\n",
    "<br> BNP = C + G + I + NX\n",
    "<br> Dette er ligningen for generalbudsjettet.\n",
    "<br>\n",
    "<br> **Nettonasjonalprodukt**\n",
    "<br> BNP korrigerer for verdien av produktinnsats (varene som går med til produksjonen).\n",
    "<br> BNP korrigerer ikke for kapitalslit. Altså slitasje på det som brukes i produksjonen over flere år, f.eks. fabrikker, maskiner og transportmiddel.\n",
    "<br> Konsekvensene av dette er at BNP kan overdriver den egentlige verdiskapningen i ett land. \n",
    "<br> Det er her nettonasjonalprodukt (NNP) kommer inn i bilde. \n",
    "<br> Nettonasjonalprodukt (NNP) = BNP fratrukket kapitalslit (D). Her trekkes kapitalsliten (D) av alle bedrifter i landet.\n",
    "<br> NNP = BNP - D\n",
    "<br> Visst vi setter inn for BNP i denne formelen får vi:\n",
    "<br> NNP = C + G + (I - D) + NX\n",
    "<br> Her betegner (I - D) differansen mellom bruttoinvestering i realkapital og kapitalslit. Vi betegner denne differansen som NI.\n",
    "<br> NI = I - D"
   ]
  },
  {
   "cell_type": "markdown",
   "id": "6b667af9-fd09-43dc-81e3-b62983733e2f",
   "metadata": {},
   "source": [
    "<hr/>"
   ]
  },
  {
   "cell_type": "markdown",
   "id": "5ea0307b-ebab-4a83-a9a6-8d5600a17661",
   "metadata": {},
   "source": [
    "#### Disponibel inntekt, sparing og driftbalansen overfor utlandet"
   ]
  },
  {
   "cell_type": "markdown",
   "id": "b3e73196-6d78-4c66-8d62-00d6ae1e7370",
   "metadata": {},
   "source": [
    "<br>\n",
    "<br>\n",
    "<br>\n",
    "<br>\n",
    "<br>\n",
    "<br>\n",
    "<br>\n",
    "<br>\n",
    "<br>\n",
    "<br>\n",
    "<br>\n",
    "<br>\n",
    "<br>\n",
    "<br>\n",
    "<br>\n",
    "<br>\n",
    "<br>\n",
    "<br>\n",
    "<br>\n",
    "<br>\n",
    "<br>\n",
    "<br>\n",
    "<br>\n",
    "<br>\n",
    "<br>\n",
    "<br>\n",
    "<br>\n",
    "<br>"
   ]
  },
  {
   "cell_type": "markdown",
   "id": "de226407-fc40-4ce1-abff-08e7d010fe90",
   "metadata": {},
   "source": [
    "<hr/>"
   ]
  },
  {
   "cell_type": "markdown",
   "id": "21f0a74f-4f79-4434-83c3-2e076e49bfea",
   "metadata": {},
   "source": [
    "#### Nasjonalregnskapsberegning"
   ]
  },
  {
   "cell_type": "markdown",
   "id": "f46eae18-37c5-42e3-b174-0890a19c0406",
   "metadata": {},
   "source": [
    "<br>\n",
    "<br>\n",
    "<br>\n",
    "<br>\n",
    "<br>\n",
    "<br>\n",
    "<br>\n",
    "<br>\n",
    "<br>\n",
    "<br>\n",
    "<br>\n",
    "<br>\n",
    "<br>\n",
    "<br>\n",
    "<br>\n",
    "<br>\n",
    "<br>\n",
    "<br>\n",
    "<br>\n",
    "<br>\n",
    "<br>\n",
    "<br>\n",
    "<br>\n",
    "<br>\n",
    "<br>\n",
    "<br>\n",
    "<br>\n",
    "<br>"
   ]
  }
 ],
 "metadata": {
  "kernelspec": {
   "display_name": "Python 3 (ipykernel)",
   "language": "python",
   "name": "python3"
  },
  "language_info": {
   "codemirror_mode": {
    "name": "ipython",
    "version": 3
   },
   "file_extension": ".py",
   "mimetype": "text/x-python",
   "name": "python",
   "nbconvert_exporter": "python",
   "pygments_lexer": "ipython3",
   "version": "3.9.15"
  }
 },
 "nbformat": 4,
 "nbformat_minor": 5
}
