{
 "cells": [
  {
   "cell_type": "markdown",
   "id": "5e9ed058-43ae-40f8-b259-f51be802f80a",
   "metadata": {},
   "source": [
    "## Modeller, teori og analyse"
   ]
  },
  {
   "cell_type": "code",
   "execution_count": 1,
   "id": "d8b6148a-9264-4ac8-b3ac-c057267bd418",
   "metadata": {},
   "outputs": [],
   "source": [
    "# Laster inn pakker\n",
    "import numpy as np\n",
    "from sympy import *\n",
    "from matplotlib import pyplot as plt"
   ]
  },
  {
   "cell_type": "markdown",
   "id": "f1f4d44f-67d2-404d-b648-eb4edf701f30",
   "metadata": {},
   "source": [
    "<hr/>"
   ]
  },
  {
   "cell_type": "markdown",
   "id": "893a2148-9160-4506-925f-e2ecb8e0df96",
   "metadata": {},
   "source": [
    "#### Økonomiske modeller og teori\n",
    "<br> **Modellbruk**\n",
    "<br> En økonomisk modell er som oftest utrykkt som en grafisk fremstilling eller ved matematiske sammenhenger.\n",
    "<br> En økonomisk modell gir et forenklet bilde av hele eller deler av økonomien og er bygd opp på en måte slik at man kan beskrive og forklare sammenhenger mellom økonomiske størrelser.\n",
    "<br> Det er viktig å merke seg at utfall av modellanalyse stemmer ikke alltid overens med virkeligheten. Hva utfallet blir avhenger av forutsetningene til modellen. \n",
    "<br>\n",
    "<br> Størrelsene som inngår i en økonomisk modelle er enten eksogene- eller endogene variabler. \n",
    "<br> **Eksogene variabler:** Blir bestemt utenfor modellen.\n",
    "<br> *Eksogene variabler (\"input\")* $\\rightarrow$ Økonomien\n",
    "<br> **Endogene variabler:** Blir bestemt av modellen.\n",
    "<br> Økonomien $\\rightarrow$ *Endogene variabler (\"output\")*\n",
    "<br> \n",
    "<br> Innenfor makroøkonomi finnes det to hovedretninger for teorier som brukes til å analysere økonomiske modeller.\n",
    "<br> Disse kalles for *klassisk teori* og *keynesiansk teori*\n",
    "<br>\n",
    "<br> **Klassisk teori:** Har sitt opphav fra 1700-tallet. Økonom og filosof Adam Smith regnes som grunnleggeren av samfunsøkonomi faget. Den teorien han anvendte kalles i dag for klassisk teori. Klassisk teori antar at priser og lønninger tilpasses raskt og dermed oppstår likevekt i økonomien. Klassisk teori mener derfor at det er lite behov for inngripen av myndigheter. Markedet løser seg selv.\n",
    "<br> Eksemepel på klassisk teori: Høy arbeidsledighet kommer det av for høye lønninger. \n",
    "<br> Løningene vil reduseres slik at arbeidsledigheten går ned fordi bedriftene ansetter flere.\n",
    "<br> Klassisk teori brukes mest for å forklare hvordan økonomien utvikler seg på lang sikt. \n",
    "<br> \n",
    "<br> **Keynesiansk teori:** Utviklet seg i mellomkrigstiden og har sitt navn etter økonomen John Maynard Keynes.\n",
    "<br> Teorien utviklet seg da man opplevde at land blei rammet av langvarige depresjoner der arbeidsledigheten ikke stabiliserte seg i henhold til klassisk teori. Keynesiansk teori er derfor for at myndighetene bruker penge- og finanspolitikk til å stabilisere konjunkturbevegelsen. \n",
    "<br> Eksempel på keynesiansk teori: Høy arbeidsledighet er et resultat av for lav etterspørsel.\n",
    "<br> Prisene og lønningene reduseres, men konjunktursituasjonen normaliseres ikke alltid.\n",
    "<br> Keynesiansk teori brukes mest for å forklare hvordan økonomien utvikler seg på kort sikt. Altså til å forklare oppgangs- og nedgangstider i økonomien, såkalt konjunkturbevegelser. "
   ]
  },
  {
   "cell_type": "markdown",
   "id": "a13864f4-b852-4dcf-aaf3-e6489ba23c97",
   "metadata": {},
   "source": [
    "<hr/>"
   ]
  },
  {
   "cell_type": "markdown",
   "id": "e454b281-ab5c-4fd1-bfd4-1592be8c36e7",
   "metadata": {},
   "source": [
    "#### Deskriptive og normative utsagn\n",
    "<br> *Innenfor samfunsvitenskap går det et skille mellom deskriptive og normative utsagn.*\n",
    "<br> **Deskriptive utsagn:** Påstand som forklarer hvordan noe faktisk er eller var.\n",
    "<br> Eksempel: \"I 2018 senket regjeringen inflasjonsmålet i pengepolitikken fra 2,5 til 2 prosent\"\n",
    "<br> Utsagnet er deskriptivt fordi det er en påstand som kan konstanteres å være sann eller usann.\n",
    "<br> **Normative utsagn:** Påstand som har en type vurdering knyttet til seg.\n",
    "<br> Eksempel: \"Regjeringen burde ikke ha senket inflasjonsmålet for pengepolitikken fra 2,5 til 2 prosent i 2018\"\n",
    "<br> Påstanden er et normativt utsagn siden det ikke kan konstanteres å være sann eller usann, og inneholder en vurdering."
   ]
  },
  {
   "cell_type": "markdown",
   "id": "9ee95126-3909-423c-8ae1-ccdbafaf09d7",
   "metadata": {},
   "source": [
    "<hr/>"
   ]
  },
  {
   "cell_type": "markdown",
   "id": "6677853d-9eeb-4720-9c90-5f09bbb297ac",
   "metadata": {},
   "source": [
    "#### Beholdningstørrelser og strømningsstørrelser\n",
    "<br> Ett viktig skille i nasjonalregnskapet er mellom strømnings- og beholdningsstørrelser.\n",
    "<br> **Strømningsstørrelser (flow):** Størrelse det kun gir mening å prate om over tid. Måler aktivitet i løpet av en tidsperiode.\n",
    "<br> Eksempler: privat konsum, offentlig konsum, import, eksport. \n",
    "<br> **Beholdningsstørrelse (stock):** Størrelse det kun gir mening å prate om på et bestemt tidspunkt. Måles på ett bestemt tidspunkt.\n",
    "<br> Eksempler: formue, sysselsatte, arbeidsledighet, realkapital. \n",
    "<br>\n",
    "<br> **Huskeregel:**\n",
    "<br> **Strømmingstørrelser:** Test om summen av størrelsen i løpet av ett år vil være det samme som summen i løpet av hvert kvartal eller mnd. \n",
    "<br> Eksempel: Summen av all import i løpet av 2018 er lik summen av import i hver enkelt mnd av 2018. \n",
    "<br> **Beholdningstørrelse:** Sjekk om det gir mening å snakke om størrelsen akkurat nå eller på et bestemt tidspunkt.\n",
    "<br> Eksempel: Antall registrerte arbeidsledige var 64.500 personer den \n",
    "<br>\n",
    "<br>\n",
    "<br>\n",
    "<br>\n",
    "<br>\n",
    "<br>\n",
    "<br>\n",
    "<br>\n",
    "<br>\n",
    "<br>\n",
    "<br>"
   ]
  },
  {
   "cell_type": "code",
   "execution_count": null,
   "id": "872565ee-2f66-4c63-bced-a595c2341df1",
   "metadata": {},
   "outputs": [],
   "source": []
  }
 ],
 "metadata": {
  "kernelspec": {
   "display_name": "Python 3 (ipykernel)",
   "language": "python",
   "name": "python3"
  },
  "language_info": {
   "codemirror_mode": {
    "name": "ipython",
    "version": 3
   },
   "file_extension": ".py",
   "mimetype": "text/x-python",
   "name": "python",
   "nbconvert_exporter": "python",
   "pygments_lexer": "ipython3",
   "version": "3.9.15"
  }
 },
 "nbformat": 4,
 "nbformat_minor": 5
}
