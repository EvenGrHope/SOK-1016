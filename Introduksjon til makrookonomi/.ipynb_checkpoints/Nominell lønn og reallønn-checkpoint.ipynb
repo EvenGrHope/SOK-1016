{
 "cells": [
  {
   "cell_type": "markdown",
   "id": "405f54ad-7f0a-4bc6-9241-1da4fe4fdc1f",
   "metadata": {},
   "source": [
    "## Nominell lønn og reallønn"
   ]
  },
  {
   "cell_type": "code",
   "execution_count": 1,
   "id": "68b8643d-ee03-43cc-9386-8bf3f7837435",
   "metadata": {},
   "outputs": [],
   "source": [
    "# Laster inn pakker\n",
    "import numpy as np\n",
    "from sympy import *\n",
    "from matplotlib import pyplot as plt"
   ]
  },
  {
   "cell_type": "markdown",
   "id": "2a6579c0-c094-485f-8c7e-0d12cf66fe2b",
   "metadata": {},
   "source": [
    "<hr/>"
   ]
  },
  {
   "cell_type": "markdown",
   "id": "9f83b654-88b5-40b3-a109-b5ddf0f6b517",
   "metadata": {},
   "source": [
    "#### Kroneverdi, nominell lønn og reallønn"
   ]
  },
  {
   "cell_type": "markdown",
   "id": "57943e83-d03a-44c0-8b1a-77a3765513e7",
   "metadata": {},
   "source": [
    "**Kroneverdi**\n",
    "<br> *Noen størrelser ligger fast over tid, mens andre størrelser endres.*\n",
    "<br> Eksempelr på størrelser som ligger fast over tid: 1kg for 50 år siden, er fortsatt 50kg i dag. Lengeden på 1 meter for 50 år siden, er forsatt like langt som idag.\n",
    "<br> Disse størrelsene kan lett sammenlignes.\n",
    "<br> Eksempler på størrelser som endrer seg over tid: kroner, valuttakurs og rente. For 50 år siden var krona mye mer verdt en i dag.\n",
    "<br> Når vi sammenligner verdien av det samme kronebeløpet på ulike tidspunkt, bruker vi begrepet *kroneverdi*"
   ]
  },
  {
   "cell_type": "markdown",
   "id": "0ca28b29-7e8d-4936-9b92-32e6acd69bed",
   "metadata": {},
   "source": [
    "**KPI og kroneverdi**\n",
    "<br> **KPI:** mål på utviklingen i levekostnader for en norsk gjennomsnittshusholdning.\n",
    "<br> Når KPI vokser over tid, reduseres kjøpskraften til et gitt kronebeløp. Den reele kroneverdien reduseres.\n",
    "<br> Veksten i KPI over 50 år fra 1968 til 2018 har ført til at 100 kr i 1968 tilsvarte 959 kr i 2018. Visst en person fikk 100 kr i 1968 kunne man på den tiden få kjøpt like mye som vi får kjøpt for 959 kr i 2018. Den reele kroneverdien (kjøpekraften) til et kronebeløp i 2018 er mye lavere enn den reele kroneverdien i 1968. \n",
    "<br> Det at kroneverdien reduseres over tid pga. inflasjon får også invirkning på lønnsutviklingen. "
   ]
  },
  {
   "cell_type": "markdown",
   "id": "86e4410c-6b4a-4952-abbc-5b3dc253e9d2",
   "metadata": {},
   "source": [
    "**Reallønn**\n",
    "<br> *Når man avtaler lønn er det nominell lønn det er snakk om.*\n",
    "<br> Inflasjon påvirker nominell lønns kjøpskraft (reallønn).\n",
    "<br> Eksempel: I 2019 var den nominelle lønna 1000 kr og handlekurven kostet 1000 kr. I 2020 var den nominelle lønna fortsatt 1000 kr men etter 2% inflasjon på 1 år kostet handlekurven nå 1020 kr. Visst du ikke får like mye økning i lønn som inflasjonen tilsier har du i praksis gått ned i lønn. Grunnen til det er at det generelle prisnivået har økt mens lønna (nominell lønn) har ikke økt tilsvarende. Noe som betyr at reallønnen din er redusert.\n",
    "<br> Reallønn er dermed ikke en virkelig lønn men forklarer bare den nominelle lønnens kjøpekraft.\n",
    "<br> Visst vi ser tilbake på eksempelet over og sier at i 2020 gikk den nominelle lønnen opp til 1100 kr, altså at den nominelle lønnen stiger mer en prisene. I dette eksempelet har reallønnen økt, kjøpskraften har økt. \n",
    "<br>\n",
    "<br> Nivået på reallønna kan regnes ut på denne måte:\n",
    "<br> $reallønn = \\frac{nominellønn * 100}{KPI}$"
   ]
  },
  {
   "cell_type": "markdown",
   "id": "50162e2c-c99c-4db6-8c06-5c5ddc8f93da",
   "metadata": {},
   "source": [
    "Vi har følgende information om lønna til et individ:\n",
    "|Tidspunkt|Nominell lønn|KPI|\n",
    "|---------|-------------|---|\n",
    "|2015     |430.000      |100|\n",
    "|2018     |451.500      |108.4|\n",
    "\n",
    "Vi skal nå regne ut om kjøpekraften til dette individet har økt eller sunket, vi regner ut reallønna for hver periode og ser på forskjellene:\n",
    "<br> I 2015 var reallønnen: $430.000 = \\frac{430.000 * 100}{100}$\n",
    "<br> I 2018 var reallønnen: $416.513 = \\frac{451.500 * 100}{108.4}$\n",
    "<br> Vi kan se at reallønnen til individet er lavere i 2018 enn i 2015. Det betyr at prisene har steget mer en lønnen til individet, slik at vedkommende har fått redusert kjøpekraft."
   ]
  }
 ],
 "metadata": {
  "kernelspec": {
   "display_name": "Python 3 (ipykernel)",
   "language": "python",
   "name": "python3"
  },
  "language_info": {
   "codemirror_mode": {
    "name": "ipython",
    "version": 3
   },
   "file_extension": ".py",
   "mimetype": "text/x-python",
   "name": "python",
   "nbconvert_exporter": "python",
   "pygments_lexer": "ipython3",
   "version": "3.9.15"
  }
 },
 "nbformat": 4,
 "nbformat_minor": 5
}
