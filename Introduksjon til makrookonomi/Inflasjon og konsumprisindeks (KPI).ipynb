{
 "cells": [
  {
   "cell_type": "markdown",
   "id": "0ac924f3-1207-44a0-a7c0-c792f36f0688",
   "metadata": {},
   "source": [
    "## Inflasjon og konsumpirsindeks (KPI)"
   ]
  },
  {
   "cell_type": "code",
   "execution_count": 1,
   "id": "c561119b-cfe8-459d-8e53-1f6288cbd769",
   "metadata": {},
   "outputs": [],
   "source": [
    "# Laster inn pakker\n",
    "import numpy as np\n",
    "from sympy import *\n",
    "from matplotlib import pyplot as plt"
   ]
  },
  {
   "cell_type": "markdown",
   "id": "13cd2e2a-6081-46a8-8df6-7e0767dfd317",
   "metadata": {},
   "source": [
    "<hr/>"
   ]
  },
  {
   "cell_type": "markdown",
   "id": "07dc1832-7306-4bc4-946c-96b91678c445",
   "metadata": {},
   "source": [
    "#### Grunnleggende om inflasjon"
   ]
  },
  {
   "cell_type": "markdown",
   "id": "fbf7519e-5443-4408-8b28-9d13ac385a7e",
   "metadata": {},
   "source": [
    "Hvorfor går prisen på de fleste varer opp over tid? Hvorfor koster f.eks. godteri så mye mer i dag enn det gjorde når vi var små? Svaret er inflasjon."
   ]
  },
  {
   "cell_type": "markdown",
   "id": "e4856284-cb61-49d4-9ed6-d89526c61647",
   "metadata": {},
   "source": [
    "**Inflasjon**\n",
    "<br> Vedvarende vekst i det genrelle prisnivået. Det generelle prisnivået gjenspeiler priser på varer og tjenester. \n",
    "<br> At det generelle prisniåvet på varer øker, betyr at en gitt pengesum du har, blir mindre verdt over tid, siden du må ha mer penger for å kjøpe det samme.\n",
    "<br> F.eks er 20 kr verdt mye mindre i dag en det var på 80-tallet.\n",
    "<br> På Norges bank sine hjemmesider finner man priskalkulatoren: https://www.norges-bank.no/tema/Statistikk/Priskalkulator/\n",
    "<br> Det viser seg at man må ha 76 kr i dag for å kunne kjøpe det samme som for 20 kr i 1980.\n",
    "<br>\n",
    "<br>\n",
    "**Deflasjon**\n",
    "<br> Det motsatte av inflasjon er deflasjon. Vedvarende fall i det genrelle prisnivået.\n",
    "<br> At det generelle prisnivået på varer faller, betyr at en gitt pengesum du har, blir mer verdt over tid, siden du må ha mindre penger for å kjøpe det samme. \n",
    "<br> F.eks visst en gitt mengde varer kostet 40 kr på 80-tallet, men koster 20 kr i dag, da ville vi fått råd til dobbelt så mye varer for samme beløp. \n",
    "<br>\n",
    "<br>\n",
    "**Prisstabilitet**\n",
    "<br> Dersom prisene på varer og tjenester verken øker eller synker i løpet av en tidsperiode. \n",
    "<br>\n",
    "<br>\n",
    "**Inflasjonsmål**\n",
    "<br> Norges bank har et fleksibelt inflasjonsmål for pengepolitikken. Det vil si at man ønsker å oppnå lav og stabil inflasjon over tid.\n",
    "<br> Mer spesefisk ønsker man en årlig vekst i det generelle prisnivået på varer og tjenester som over tid er nær 2 prosent. \n",
    "<br> At Norges bank har et fleksibelt inflasjonsmål vil si at de kan sette renten lavere enn den som gir 2 prosent inflasjon hvis sysselsettingen er unormalt lav. \n",
    "<br> Sysselsetting vil si de som er i arbeid. Visst sysselsettingen er unormalt lav, betyr det at arbeidsledigheten er unormalt høy. \n",
    "<br>\n",
    "<br>\n",
    "**Hvorfor inflasjon?**\n",
    "<br> Hvorfor ønsker vi at prisene skal stige over tid? Burde ikke målet være ingen prisvekst.\n",
    "<br> Både høy inflasjon og deflasjon skaper problemer for økonomien.\n",
    "<br> Høy inflasjon $\\rightarrow$ Mer variasjon i priser $\\rightarrow$ Usikkerhet $\\rightarrow$ Forsterker svingninger i økonomien\n",
    "<br> Deflasjon $\\rightarrow$ Pengenes kjøpekraft øker $\\rightarrow$ Mer attraktivt å spare $\\rightarrow$ Forsterker og forlenger dårlige økonomiske tider\n",
    "<br>\n",
    "<br>\n",
    "**Hyperinflasjon**\n",
    "<br> Svært høy inflasjon. Konsekvensen av at inflasjonen kommer ut av kontroll er stor.\n",
    "<br> Mellomkrigstiden: Inflasjonen var svært stor i Tyskland fordi de presset opp store mengder tyske mark for å betale krigsskadeerstatninger til andre  land og for å kunne håndtere økonomiske utfordringer innad i landet.\n",
    "<br> Pengenes verdi raste $\\downarrow$\n",
    "<br> Det sies at man måtte har ett trillebårlass for å kjøpe 1 brød, prisen på varen du skulle kjøpe kunne endres mens du sto i køen og penger ble brukt for å fyre i peisen.\n",
    "<br>\n",
    "<br>\n",
    "**Inflasjon og lønn**\n",
    "<br> Lav og stabil inflasjon bidrar til å sikre forutsigbarhet i prisutviklingen.\n",
    "<br> Forventninger til inflasjonsnivå tas hensyn til i lønnsforhandlinger.\n",
    "<br> Eksempel:\n",
    "<br> Med nåverende lønn på 1000 kr kan du kjøpe en handlevogn til en verdi på 1000 kr.\n",
    "<br> Visst det forventes at inflasjonen det kommende året skal øke med 2%.\n",
    "<br> Da vil du med en lønnsøkning på 0% ikke kunne kjøpe samme handlekurven om 1 år, da den vil koste 1020 kr. Altså kjøpekraften din reduseres.\n",
    "<br> Da vil du med en lønnsøkning på 4% kunne kjøpe mer enn den samme handlekurven om 1 år, da den vil koste 1020 kr. Men du vil ha en lønn på 1040 kr. Altså kjøpekraften øker. \n",
    "<br> En annen årsak til at man ønsker å ha en viss grad av inflasjon er at det er lettere å bekjempe for høy inflasjon enn å bekjempe deflasjon. "
   ]
  },
  {
   "cell_type": "markdown",
   "id": "c5be83ca-fbb8-4ec0-930f-b615e8909791",
   "metadata": {},
   "source": [
    "<hr/>"
   ]
  },
  {
   "cell_type": "markdown",
   "id": "3611abf7-0288-43cd-b626-6b285e8499ff",
   "metadata": {},
   "source": [
    "#### Konsumprisindeksen (KPI)"
   ]
  },
  {
   "cell_type": "markdown",
   "id": "fb01e8fd-55f6-4665-bf65-af74c5fd4be7",
   "metadata": {},
   "source": [
    "Økning i konsumprisindeksen (KPI) blir brukt som mål på inflasjon. Konsumprisindeksen blir publisert av SSB hver måned. \n",
    "<br> Den beskriver utviklingen i prisene på en kurv av varer og tjenester som er normal for en norsk husholdning. \n",
    "<br> Eksempler på varer og tjenester som inngår i denne kurven er alt fra matvarer, klær, transport, reise og utdanning. \n",
    "<br> Ved hjelp av strekkode data samles det inn prisinformasjon på de varene og tjenestene som vi som konsumenter normalt kjøper. Så sammenlignes prisen på kruven for f.eks. juni med kurven for juli. På den måten er KPI en indikator på utviklingen i levekostnad for en norsk gjennomsnittshusholdning. For å kunne sammenligne prisendringene beholdes det samme i handlekurven hver mnd. \n",
    "<br> For å forstå hvordan KPI fungerer skal vi se på hvordan den beregnes for en bestemt mnd (juni):\n",
    "<br> $KPI(juni) = KPI(juli) * \\frac{pris på kurv(juli)}{pris på kurv(juni)}$"
   ]
  },
  {
   "cell_type": "markdown",
   "id": "cdd2b350-4ea2-43e9-9606-078faacb6368",
   "metadata": {},
   "source": [
    "**KPI og inflasjon**\n",
    "<br> Endring i KPI er et vanlig mål på inflasjon.\n",
    "<br> Norges bank bruker tolvmånedersendringen i KPI i prosent av det KPI var for tolv måneder siden. "
   ]
  },
  {
   "cell_type": "markdown",
   "id": "807fcb5d-e784-4494-9a6d-be289eb4c9c7",
   "metadata": {},
   "source": [
    "|År |2013|2014|2015| 2016| 2017|\n",
    "|---|----|----|----|-----|-----|\n",
    "|KPI|95.9|97.9| 100|103.6|105.5|"
   ]
  },
  {
   "cell_type": "markdown",
   "id": "817742e0-f9fe-4cfd-93d0-5f20c3290c6c",
   "metadata": {},
   "source": [
    "På tabellen over kan vi se at verdien til KPI i 2015 er 100. Dette er fordi 2015 brukes som basisår, det vil si at priser blir målt i forhold til 2015.\n",
    "<br> Derfor det det vanlig at KPI verdier før 2015 er mindre enn 100, mens verdier etter 2015 er over 100.\n",
    "<br>\n",
    "<br> Vi skal nå se på formelen for tolvmåndersendingen i KPI i prosent av det KPI var for tolv måneder siden.\n",
    "<br> $inflasjon(2019) = \\frac{KPI(2019) - KPI(2018)}{KPI(2018)} * 100% $\n",
    "<br>\n",
    "<br>\n",
    "**Oppgave**\n",
    "<br> Vi skal nå bruke faktiske tall til å regne tolvmåndersendingen i KPI i prosent av det KPI var for tolv måneder siden.\n",
    "<br> KPI juli 2018 = 109.3 | KPI juli 2019 = 111.4\n",
    "<br> $inflasjon(2019) = \\frac{111.4 - 109.3}{109.3} * 100% $\n",
    "<br> $1.9 = \\frac{111.4 - 109.3}{109.3} * 100% $\n",
    "<br> Vi kan se at inflasjonen i 2019 var på 1.9%, altså prisene økte med 1.9% mellom juli 2018 til juli 2019. Dette er veldig nært norges bank sitt mål på 2%."
   ]
  }
 ],
 "metadata": {
  "kernelspec": {
   "display_name": "Python 3 (ipykernel)",
   "language": "python",
   "name": "python3"
  },
  "language_info": {
   "codemirror_mode": {
    "name": "ipython",
    "version": 3
   },
   "file_extension": ".py",
   "mimetype": "text/x-python",
   "name": "python",
   "nbconvert_exporter": "python",
   "pygments_lexer": "ipython3",
   "version": "3.9.15"
  }
 },
 "nbformat": 4,
 "nbformat_minor": 5
}
