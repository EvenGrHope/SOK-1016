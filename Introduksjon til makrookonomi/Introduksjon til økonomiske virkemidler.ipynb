{
 "cells": [
  {
   "cell_type": "markdown",
   "id": "efe3778b-3423-4ec4-92c9-876d82f8e9be",
   "metadata": {},
   "source": [
    "## Introduksjon til økonomiske virkemidler"
   ]
  },
  {
   "cell_type": "code",
   "execution_count": 1,
   "id": "34c27099-b9a2-4f44-9203-b525f4324101",
   "metadata": {},
   "outputs": [],
   "source": [
    "# Laster inn pakker\n",
    "import numpy as np\n",
    "from sympy import *\n",
    "from matplotlib import pyplot as plt"
   ]
  },
  {
   "cell_type": "markdown",
   "id": "71dfdfdc-aa9c-4986-9ef0-287ae24c3436",
   "metadata": {},
   "source": [
    "<hr/>"
   ]
  },
  {
   "cell_type": "markdown",
   "id": "dee28de8-ab7d-4f7b-9eff-a623a50228ae",
   "metadata": {},
   "source": [
    "#### Introduksjon til penge- og finanspolitikk"
   ]
  },
  {
   "cell_type": "markdown",
   "id": "1c54d090-7745-41d0-b1f6-f79f0764c55c",
   "metadata": {},
   "source": [
    "**Inflasjon:** *Varig økning i prisnivå*. Kjøpekraften reduseres.\n",
    "<br> **Konsekvens:** at pengene taper seg i verdi.\n",
    "- Mengden varer og tjenester man får for 100 kr i dag er lavere en den mengden man fikk for samme hundrelapp tidliggere.\n",
    "- Eks: I 1950 kostet 1L melk 1kr $\\rightarrow$ I 2023 koster 1L melk 25 kr. Melk har ikke reelt sett fått en høyere verdi (tvert i mot), men inflasjon (varig økning i prisnivået) har gjort slik at melken er blitt dyrere. 1 kr var altså verdt mye mer i 1950 en den er i dag. Kjøpekraften for 1 kr var høyere i 1950 enn i dag."
   ]
  },
  {
   "cell_type": "markdown",
   "id": "93249973-cf0e-4243-8c21-cd4d183a37c4",
   "metadata": {},
   "source": [
    "Norges bank har laget en priskalkulator der man ka se hva ett beløp før i tiden er verdt nå. Lenken nedenfor:\n",
    "<br> https://www.norges-bank.no/tema/Statistikk/Priskalkulator/ "
   ]
  },
  {
   "cell_type": "markdown",
   "id": "b451754e-1ded-481b-809b-e8a1a1dc69e6",
   "metadata": {},
   "source": [
    "**Hyperinflasjon:** *ekstrem inflasjon*\n",
    "<br> Konsekvensen av at inflasjonen kommer ut av kontroll er stor.\n",
    "<br> Mellomkrigstiden: Inflasjonen var svært stor i Tyskland fordi de presset opp store mengder tyske mark for å betale krigsskadeerstatninger til andre  land og for å kunne håndtere økonomiske utfordringer innad i landet.\n",
    "- Pengenes verdi raste $\\downarrow$\n",
    "- Det sies at man måtte har ett trillebårlass for å kjøpe 1 brød, og penger ble brukt for å fyre i peisen.\n",
    "\n",
    "<br> Et annet land som i nyere tid har hatt hyperinflasjon er Zimbabwe.\n",
    "- I 2007 hadde Zimbabwe ett inflasjons nivå på 66.212%, til sammenligning hadde Norge 0.8%.\n",
    "- Mot slutten av 2008 sklir inflasjonen helt ut av kontroll og når ett nivå på 79.600.000.000% pr. mnd.\n",
    "- Vanlige mennesker hadde da altså flere millioner Zimbabwean dollar i lommeboken men disse sedlene var nesten ikke verdt noe som helst fordi prisene på godene de økte tilsvarende. "
   ]
  },
  {
   "cell_type": "markdown",
   "id": "b3230db3-2826-4151-a01e-46c4f1983c83",
   "metadata": {},
   "source": [
    "**Makroøkonomisk politikk**\n",
    "<br> Makroøkonomisk poltikk skal sikre at økonomiske målsetninger nås til det beste for samfunnet.\n",
    "<br> Nøkkelord: Konjungturstabilisering og inflassjonstyring\n",
    "<br> Det er vanlig å dele inn makroøkonomisk poltikk i to områder:\n",
    "<br> *Pengepolitikk* $\\leftarrow$ Makroøkonomisk politikk $\\rightarrow$ *Finanspolitikk*"
   ]
  },
  {
   "cell_type": "markdown",
   "id": "fc44d5fd-35a1-4b4c-8d4b-61b565f7daee",
   "metadata": {},
   "source": [
    "**Pengepolitikk**\n",
    "<br> Pengepolitikken i Norge styre av Norges bank, som er Norges *sentralbank.*\n",
    "<br> Norges bank har ansvar for inflasjonsstyring (Mål: stabil, lav inflasjon på 2% over tid).\n",
    "- Selve inflasjonsstyringer er fleksibel, det betyr at Norges bank skal sørge for at både produksjonen og sysselsettingen er høy og stabil, samt sørge for finansiell stabilitet. Avveiningen mellom inflasjonsmålet og produksjonsmålsetningen gjør at inflasjonsstyringen er fleksibel.\n",
    "\n",
    "<br> Hovedvirkemidelet til Norges bank er *styringsrenten*.\n",
    "<br> **Styringsrenten** er bankenes innskuddsrente i Norges bank. Størrelsen på styringsrenten legger store føringer for hvilken rente både privatpersoner og bedrifter må betale for å låne penger i banken.\n",
    "<br> Lav styringsrente $\\rightarrow$ lav rente fra bankene til lånetakere.\n",
    "<br> Høy styringsrente $\\rightarrow$ høy rente fra bankene til lånetakere.\n",
    "<br>\n",
    "<br> En lav rente virker stimulerende på økonomien, da investeringene øker og privat konsum øker. Grunnen til at investeringene øker med lav rente er fordi flere investeringsprosjekter blir lønnsomme. Når flere investeringsprosjekter settes til liv, vil det øke aktivitetsnivået i økonomien, siden disse prosjektene krever ressurser som f.eks. arbeidskraft. I tillegg vil en lav rente spille en stor rolle for privatpersoners konsum av varer og tjenester. Kostnaden med å ha gjeld, altså renten, blir lavere. En lav rente stimulerer til gjeldsopptak og økning i konsumet. En økning i konsumet vil spille inn på aktivitetsnivå eller produksjonen øker.\n",
    "<br>\n",
    "<br> Oppsumert kan vi si at pengepoltikken er bruk av styringsrenten som virkemiddel for å stabilisere økonomien. "
   ]
  },
  {
   "cell_type": "markdown",
   "id": "018d5421-508d-4d5a-99f8-2c0fbbcb6e71",
   "metadata": {},
   "source": [
    "**Finanspolitikk**\n",
    "<br> Finanspolitikk handler om statens inntekter og utgifter.\n",
    "<br>*Hvordan penger skal skaffes og hvorddan penger skal brukes.*\n",
    "<br> <span style='color:Green'>Statens inntekter er i hovedsak:\n",
    "- Skatter og avgifter\n",
    "    - Moms\n",
    "    - Arbeidsgiver avgift\n",
    "    - Skatt på arbeid\n",
    "\n",
    "<span style='color:Red'>Statens utgifter (offentlig konsum) er i hovedsak:\n",
    "- Offentlig skole\n",
    "- Politiet\n",
    "- Sykehus\n",
    "- Trygdeutbetaling\n",
    "- Osv ...\n",
    "\n",
    "Det finnes et eget budsjett som heter *statsbudsjettet* der regjeringen hver høst lager et eget budsjettforslag for AS Norge. Dette budsjettet gjør rede for hvordan <span style='color:Green'>penger skal hentes inn <span style='color:Black'>og <span style='color:Red'>hvordan pengene skal brukes. \n",
    "<br>\n",
    "<br> <span style='color:Black'>Virkemidlene som regjeringen kan benytte gjennom finanspolitikken er:\n",
    "<br> **Kontraktiv finanspolitikk:** Innstrammende politikk - Aktivitetsnivået dempes\n",
    "- <span style='color:Green'> Økning i inntekt\n",
    "- <span style='color:Red'> Reduksjon i utgifter\n",
    "\n",
    "**Ekspansiv finanspolitikk:** Øker aktivitetsnivået\n",
    "- <span style='color:Green'> Reduksjon i inntekt\n",
    "- <span style='color:Red'> Økning i utgifter\n",
    "\n",
    "**Oljefondet (SPU)**\n",
    "<br> Oljefondet kontrolleres av Norges bank og består av plasssering av verdipapirer og noe eiendom. Dette gir fleksibilitet i nasjonalbudsjettet gjennom handlingsregelen. Handlingsregelen vil si at regjeringen kan ta i bruk en viss del av SPUs realavkastning, det vil si SPU avkastningen korrigert for inflasjon, for å dekke budsjettunderskudd. Fra Januar (2019) er anslaget for fondets realavkastning på 2.9%, dette anslaget endres når det er behov for det. \n",
    "<br>\n",
    "<br> Oppsumert kan vi si at finanspolitikk er hvordan det offentlige bruker og henter inn penger, og hvordan dette bør gjøres for å nå politiske mål. "
   ]
  }
 ],
 "metadata": {
  "kernelspec": {
   "display_name": "Python 3 (ipykernel)",
   "language": "python",
   "name": "python3"
  },
  "language_info": {
   "codemirror_mode": {
    "name": "ipython",
    "version": 3
   },
   "file_extension": ".py",
   "mimetype": "text/x-python",
   "name": "python",
   "nbconvert_exporter": "python",
   "pygments_lexer": "ipython3",
   "version": "3.9.15"
  }
 },
 "nbformat": 4,
 "nbformat_minor": 5
}
