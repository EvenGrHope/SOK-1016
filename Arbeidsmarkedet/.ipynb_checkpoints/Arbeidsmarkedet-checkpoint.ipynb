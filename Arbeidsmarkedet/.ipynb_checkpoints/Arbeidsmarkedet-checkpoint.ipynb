{
 "cells": [
  {
   "cell_type": "markdown",
   "id": "a58f8b77-4690-4788-b751-2129dc5f3130",
   "metadata": {
    "tags": []
   },
   "source": [
    "## Arbeidsmarkedet"
   ]
  },
  {
   "cell_type": "markdown",
   "id": "bbd0cb45-9afb-434f-9e70-c44eb902af81",
   "metadata": {},
   "source": [
    "<hr/>"
   ]
  },
  {
   "cell_type": "markdown",
   "id": "59ff706f-b6d5-40e9-a33e-924d4d485d55",
   "metadata": {},
   "source": [
    "#### Introduksjon til arbeidsmarkedet"
   ]
  },
  {
   "cell_type": "markdown",
   "id": "13d84bb0-6a1f-4918-b20f-fcc4df072454",
   "metadata": {},
   "source": [
    "<ins> **Arbeidsmarkedet - Begreper** </ins>\n",
    "<br> **Arbeidsstyrken:** Alle sysselsatte + Alle arbeidsledige = Det totale antalle personer som tilbyr arbeidskraft.\n",
    "<br> **Arbeidsdyktige personer:** Personer mellom 15 og 74 år.\n",
    "<br> **Arbeidsledige:** Personer som er arbeidsdyktige og som ønsker jobb, men som ikke finner arbeid.\n",
    "<br> **Arbeidsmarkedet:** Et marked der arbeidsgiver og arbeidstaker møtes og produktet som omsettes er arbeidskraft. Arbeidstakere tilbyr egen arbeidsinnsats i bytte mot penger og arbeidsgiver tilbyr penger i bytte mot arbeidskraft."
   ]
  },
  {
   "cell_type": "markdown",
   "id": "1abae36e-498d-4893-ac7b-ffbf4fe3db10",
   "metadata": {},
   "source": [
    "<ins> **Arbeidsmarkedet** </ins>\n",
    "<br> Det er viktig for hver og en av oss at vi har arbeid for det gir oss muligheten til å kjøpe de produktene og tjenestene vi trenger og ønsker. Samtidig er det viktig for alle bransjer og bedrifter at det finnes kunder av deres produkter og tjenester slik at de har gode nokk salg til å kunne eksistere videre. På bakgrunn av dette ser man en gjensidig avhengighet mellom de som tilbyr produkter og de som etterspør produkter.\n",
    "<br> Arbeidsdeltakelse er også viktig for velferdssamfunnet vårt gjennom at staten får skatte- og avgiftsinntekter av arbeid. I tilegg oppstår det en besparelse av utgifter for hver person som går fra å ikke være sysselsatt til å bli sysselsatt. "
   ]
  },
  {
   "cell_type": "markdown",
   "id": "472e255d-3c21-4c61-b4ec-9b32008bcc08",
   "metadata": {},
   "source": [
    "<ins> **Arbeidsledighet** </ins>\n",
    "<br> Det er forskjellige grunner til at arbeidsledighet oppstår. Det går ett hovedskille mellom såkalt:\n",
    "<br> **Strukturell ledighet** - Vi skal se på denne formen for arbeidsledighet litt lengere ned.\n",
    "<br> **Konjunkturledighet** - I 2014 begynnte oljeprisene å falle fra en topp fra 115 dollar per fat til 27 dollar per fat. Dette gjorde at investeringsaktivitetene i oljesektoren bremset og mange ansatte ble sagt opp eller permittert. Videre fikk dette ringvirkninger til bransjer som var tett opp mot oljebransjer som f.eks. transport-, renhold- og kantinevirksomhet. Dette fikk primært konsekvenser for vestlandet siden oljesktoren har sitt hovedsete der. Denne situasjonen har blitt referert til som \"oljesmellen\". Dette førte til at etterspørselen i økonomien gikk ned og at vi gikk fra å ligge på trendlinjen til å havne i lavkonjunktur. Vi ser at styringsrenten ble satt ned gjentatte ganger for å få fart på økonomien igjen. En lav rente virker stimulerende for økonomien, da investeringer øker og privat konsum øker. Dette hadde effekt og i 2019 var vi i en situasjon hvor arbeidsledigheten er relativt lav og etterspørselen i økonomien er relativt høy."
   ]
  },
  {
   "cell_type": "markdown",
   "id": "195ef159-f827-424a-b25c-a10d244db449",
   "metadata": {},
   "source": [
    "<hr/>"
   ]
  },
  {
   "cell_type": "markdown",
   "id": "151c2542-1094-4b22-8f77-af453e99fe4e",
   "metadata": {},
   "source": [
    "#### Arbeidsledighet"
   ]
  },
  {
   "cell_type": "markdown",
   "id": "29e698ee-5ebf-4f36-aec8-75e14d18b827",
   "metadata": {},
   "source": [
    "**Arbeidsledige:** Personer som er arbeidsdyktige og som ønsker jobb, men som ikke finner arbeid.. Formelen for arbeidsleidghet blir derfor:\n",
    "<br> Antall arbeidsledige = Arbeidsstyrken - Antall sysselsatte\n",
    "<br> **Arbeidsledighetraten:** Antall arbeidsledige i prosent av arbeidsstyrken. Det sier noe om tilstanden i arbeidsmarkedet i et land. Arbeidsledighetsraten kan utrykkes som: \n",
    "<br> Arbeidsledighetraten = (Antall arbeidsledige / Arbeidsstyrken) * 100%\n",
    "<br> I Norge har vi to forskjellige mål på arbeidsledighet.\n",
    "1) AKU-ledighet - Arbeidskraftundersøkelsen (SSB), utføres hvert kvartal, undersøkelsen intervjuer 24.000 mennesker.\n",
    "2) NAV-ledighet - Antall arbeidssøkere som er registrert hos NAV, publiseres hver mnd."
   ]
  },
  {
   "cell_type": "markdown",
   "id": "b996a8af-3816-4ac2-b397-e4c9ddbcd0ee",
   "metadata": {},
   "source": [
    "**Syklisk arbeidsledighet (konjunkturledighet)**\n",
    "<br> Den arbeidsledigheten som henger sammen med konjunkturene (som vi så på over).\n",
    "\n",
    "**Strukturell arbeidsledighet**\n",
    "<br> Hvorfor finnes det alltid noen arbeidsledige?\n",
    "<br> Strukturell arbeidsledighet er den \"naturlige\" arbeidsledigheten siden den måles som den gjennomsnittelige arbeidsledigheten over flere konjunktursykler. \n",
    "<br> **Friksjonsledighet:** Det tar tid å matche arbeidstaker og arbeidsgiver. Visst man mister eller sier opp jobben sin må man bruke tid på å finne seg ny jobb og i mellomtiden går man da arbeidsledig. Da er man en del av friksjonsledigheten. Hovedårsakene til at det tar tid å finne seg en ny jobb er for det første at arbeidskraft ikke er et homogent gode. Det vil si at det er en missmatch mellom dine ferdigheter og de ferdighetene som søker, f.eks. en elektriker som mister jobben, kan ikke bli lege. En annen grunn til at det tar tid å finne nye jobb er mangel på informasjon i markedet. Som arbeidssøker har man ikke full oversikt over hvilke stillinger som er ledige og arbeidsgiver har heller ikke full oversikt over de kandidatene som kan være aktuelle for stillingen. En siste og viktig grunn til fiksjonsledighet er at det skjer endringer i samfunnet som gjør at behov for visse ferdigheter reduseres samtidig som andre ferdigheter blir høyt etterspurt.  "
   ]
  },
  {
   "cell_type": "markdown",
   "id": "a911df46-f2d8-41ab-8e55-12afd641d3fa",
   "metadata": {},
   "source": [
    "<hr/>"
   ]
  }
 ],
 "metadata": {
  "kernelspec": {
   "display_name": "Python 3 (ipykernel)",
   "language": "python",
   "name": "python3"
  },
  "language_info": {
   "codemirror_mode": {
    "name": "ipython",
    "version": 3
   },
   "file_extension": ".py",
   "mimetype": "text/x-python",
   "name": "python",
   "nbconvert_exporter": "python",
   "pygments_lexer": "ipython3",
   "version": "3.9.15"
  }
 },
 "nbformat": 4,
 "nbformat_minor": 5
}
