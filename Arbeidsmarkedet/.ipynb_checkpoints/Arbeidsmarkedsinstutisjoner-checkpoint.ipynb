{
 "cells": [
  {
   "cell_type": "markdown",
   "id": "9200e94c-7316-4f96-b625-6d28ff1c2db3",
   "metadata": {},
   "source": [
    "## Arbeidsmarkedsinstutisjoner"
   ]
  },
  {
   "cell_type": "markdown",
   "id": "f4612751-fd74-43db-a2d2-9341a3cad807",
   "metadata": {},
   "source": [
    "<hr/>"
   ]
  },
  {
   "cell_type": "markdown",
   "id": "2732645b-e5a6-46b4-a3b1-a28376751a81",
   "metadata": {},
   "source": [
    "#### Hovedavtale, trepartssamarbeidet og tariffavtale"
   ]
  },
  {
   "cell_type": "markdown",
   "id": "da69efe8-60cb-4228-9d47-e8ed953191d8",
   "metadata": {},
   "source": [
    "**Arbeidsmarkedsintutisjoner**\n",
    "<br> Økonomiske instutisjoner: Spilleregler som påvirker adferden til deltakerne i økonomien.\n",
    "<br> Arbeidsmarkedinsutisjoner: Lover, regler og avtaler som spesefikt påvirker de som tilbyr og etterspør arbeidskraft.\n",
    "<br> Grunnen til at vi trenger disse instutisjonene er fordi i ett arbeidsmarked kan det oppstå interessekonflinkter. Den mest framtredende av disse konfliktene er lønn. For en arbeidstaker er lønn den viktigste inntektskilden mens på den andre siden har du arbeidsgivere som har lønn som den høyeste utgiften. Så dersom arbeidstakerne ønsker høyere lønn enn arbeidsgiverne er villig til å gi kan dette føre til konflinkt. Slike type konflikter kan føre til at arbeidstaker reduserer sin arbeidskraft eller enda verre gå ut i streik. Visst en slik konflikt blir langvarig kan det føre til store tap i produksjon, noe som ikke er ønskelig."
   ]
  },
  {
   "cell_type": "markdown",
   "id": "654e3ec6-8cb2-458c-9555-f29b59ed0e18",
   "metadata": {},
   "source": [
    "**Hovedavtalen**\n",
    "<br> Hovedavtalen ble inngått i 1935 mellom LO og NHO.\n",
    "<br> LO er en organisasjon for arbeidstakerne mens NHO er en organisasjon for arbeidsgiverne. \n",
    "<br> Funksjonen til hovedavtalen er å sikre god sammhandling mellom arbeidstaker og arbeidsgiver.\n",
    "<br> Hovedavtalen inneholder blandt annet bestemmelser for hvordan forhandling og streiker skal gjennomføres og hvilke retter og plikter tilitsvalgte har."
   ]
  },
  {
   "cell_type": "markdown",
   "id": "3887b9b6-eedb-4d94-a945-307b7010ded1",
   "metadata": {},
   "source": [
    "**Trepartssamarbeidet**\n",
    "<br> Trepartssamarbeidet er et samarbeid mellom organisasjoner som representerer arbeidsgiver, arbeidstaker og staten.\n",
    "<br> Alle hovedorganisasjonene for arbeidsgiver og arbeidstaker har representanter som møter med staten, spesielt foran lønnsoppgjør. "
   ]
  },
  {
   "cell_type": "markdown",
   "id": "d0692c5d-b802-4b26-ab4d-27175bf10ba9",
   "metadata": {},
   "source": [
    "**Tariffavtale**\n",
    "<br> Generelt finnes det mer ledig arbeidskraft enn arbeidsplasser, så vil en arbeidstaker alene stå i en svak posisjon i forhandling med arbeidsgiver. Altså arbeidsgiver kan sette en lav lønn og fortsatt få folk til å jobbe for seg. \n",
    "<br> Tariffavtaler er avtaler mellom fagforeningen og arbeidsgiverforeningen eller arbeidsgivere om lønns- og arbeidsvilkår. En tariffavtale sikrer at arbeidstakere får en reel innflytelse. Innholde i tariffavtaler er typsik om lønn, arbeidstid, pensjon, oppsigelsesfrist og lignende. \n",
    "<br> Fagforening er en sammenslutning av arbeidere innenfor samme fag, yrke eller bransje. De jobber for å ivareta medlemmenes interesser."
   ]
  },
  {
   "cell_type": "markdown",
   "id": "7958c5f6-4adb-4816-a6d5-72e4fded7363",
   "metadata": {},
   "source": [
    "<hr/>"
   ]
  },
  {
   "cell_type": "markdown",
   "id": "50ea0076-a5df-46b0-8108-ab633962db75",
   "metadata": {},
   "source": [
    "#### Frontfagsystemet for lønnsoppgjør"
   ]
  },
  {
   "cell_type": "markdown",
   "id": "19f79c60-bb28-4294-95d0-985020d1dbb2",
   "metadata": {},
   "source": [
    "Frontfagsystemet for lønnsoppgjør blir ofte omtalt som frontfagmodellen.\n",
    "<br> Frontfagmodellen bygger på Norske verdier om at man ikke ønsker for stor inntektsforskjeller. \n",
    "<br> Frontfagsystemet for lønnsoppgjør går ut på at konkurranseutsatt sektor får forhandle lønn først. Som igjen gjør at det dannes en norm for lønnsvekst i andre industriers lønnsoppgjør\n",
    "<br> Konkurranseutsatt sektor kalles for frontfaget, nettopp fordi de får forhandle om lønn først. "
   ]
  },
  {
   "cell_type": "markdown",
   "id": "8e5c6614-e582-4b39-b7da-6c73cf2b0ef0",
   "metadata": {},
   "source": [
    "**Konkurranseutsatt sektor (K-sektor)**\n",
    "<br> K-sektoren inneholder næringer som får prisene satt på verdensmarkedet. Det vil si bedrifter som er utsatt for konkurranse fra utlandet. \n",
    "<br> Konkurranseutsatt sektor inneholder eksportnæringen som f.eks. fisk, olje, gass og skipsfartnæringen. Den inneholder i tilegg importkonkurrerende næringer der produktene produseres i Norge men også i utlandet som f.eks. matvarer, klær og sko. "
   ]
  },
  {
   "cell_type": "markdown",
   "id": "eaa82018-8eb0-4836-8463-a67c554ae231",
   "metadata": {},
   "source": [
    "**Skjermet sektor (S-sektor)**\n",
    "<br> S-sektoren inneholder næringene som produserer varer og som ikke har konkurranse fra utlandet. Det er typisk staten og kommuner siden de leverer varer som ikke omsettes på verdensmarkedet. Det kan være f.eks. skole, barnehage og helsetjenester. \n",
    "<br> I tilegg gjelder det næringer som er blitt skjermet fra konkurranse av politiske årsaker som f.eks. deler av det Norske landbruke. "
   ]
  },
  {
   "cell_type": "markdown",
   "id": "d857538f-fd9a-4609-8dc7-a9631779b272",
   "metadata": {},
   "source": [
    "**K-sektor og S-sektor**\n",
    "<br> Forskjellene mellom sektorene er at K-sektoren er nødt til å tilpasse prisene sine til prisene som er i verdensmarkedet for å få varene solgt. Visst de setter for høye priser vil det gjøre at de taper konkurranse og ikke får solgt varene sine. \n",
    "<br> S-sektoren på sin side står friere til å øke prisene dersom det blir dyrere å produsere, fordi de ikke har noen konkurranse. \n",
    "<br> Poenget med at konkurranseutsatt sektor forhandler om lønn først, er at lønnsvekste i K-sektoren ikke bør øke slik at de ikke klarer å konkurrere på verdensmarkedet.\n",
    "<br> Siden K- og S-sektor konkurrere om den samme arbeidskraften. Altså visst det er høyere lønn i S-sektor ønsker folk å jobbe der framfor K-sektor. Men visst de øker lønningene i K-sektor taper de konkurransen.\n",
    "<br> Ved å forhandle om lønn først, og at det dannes en norm for lønnsutvikling også i S-sektoren, forebygger en at det blir for store lønnsforskjeller mellom sektorer og gjør at K-sektor kan konkurrere på verdensmarkedet. "
   ]
  }
 ],
 "metadata": {
  "kernelspec": {
   "display_name": "Python 3 (ipykernel)",
   "language": "python",
   "name": "python3"
  },
  "language_info": {
   "codemirror_mode": {
    "name": "ipython",
    "version": 3
   },
   "file_extension": ".py",
   "mimetype": "text/x-python",
   "name": "python",
   "nbconvert_exporter": "python",
   "pygments_lexer": "ipython3",
   "version": "3.9.15"
  }
 },
 "nbformat": 4,
 "nbformat_minor": 5
}
