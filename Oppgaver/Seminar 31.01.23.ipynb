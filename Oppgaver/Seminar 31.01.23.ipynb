{
 "cells": [
  {
   "cell_type": "markdown",
   "id": "68848740-e64e-4a9c-82c3-25369d407825",
   "metadata": {},
   "source": [
    "## Seminar 31.01.2023"
   ]
  },
  {
   "cell_type": "code",
   "execution_count": 3,
   "id": "9852f5e0-fdf6-4ec1-8558-f5371b8705b1",
   "metadata": {},
   "outputs": [],
   "source": [
    "# Laster inn pakker\n",
    "import numpy as np\n",
    "import sympy as sp\n",
    "from matplotlib import pyplot as plt"
   ]
  },
  {
   "cell_type": "markdown",
   "id": "bcac484d-5196-4560-be8a-7f798b522c33",
   "metadata": {},
   "source": [
    "<hr/>"
   ]
  },
  {
   "cell_type": "markdown",
   "id": "d2c6a8cb-6673-49b6-b79f-f584a089861b",
   "metadata": {},
   "source": [
    "#### Oppgavebok Del 1 - Oppgave 1.2"
   ]
  },
  {
   "cell_type": "markdown",
   "id": "896821e8-e376-4e4d-bbc0-e8dcef2a9fee",
   "metadata": {},
   "source": [
    "Fordel begrepene *høykonjunktur*, *lavkonjunktur*, *oppgangskonjunktur* og *nedgangskonjunktur* på de ulike økonomiske situasjonene.\n",
    "<br> a) **BNP vokser raskere enn potensielt BNP** - *Oppgangskonjunktur*\n",
    "<br> b) **BNP er over potensielt BNP** - *Høykonjunktur*\n",
    "<br> c) **BNP er under potensielt BNP** - *Lavkonjunktur*\n",
    "<br> d) **BNP vokser tregere enn potensielt BNP** - *Nedgangskonjunktur*"
   ]
  },
  {
   "cell_type": "markdown",
   "id": "c512aa92-c43e-44a2-953a-e1f0a28c2b7f",
   "metadata": {},
   "source": [
    "#### Oppgavebok Del 1 - Oppgave 2.1"
   ]
  },
  {
   "cell_type": "markdown",
   "id": "526f1587-73fe-40ae-8ee9-a3caa73b9770",
   "metadata": {},
   "source": [
    "a) **Hva tar en sikte på å måle med et lands bruttonasjonalprodukt (BNP)?** - BNP er summen av alle varer og tjenester som produseres i et land i løpet av en periode, ofte et år, fratrukket de varene og tjenestene som benyttes i denne produksjonen. BNP sier noe om den økonomiske situasjonen og velferden i et land.\n",
    "<br> b) **Drøft kort styrker og svakheter ved BNP som mål på velstand.** - \n",
    "<br> c) **Hva er et lands sparing i en lukket økonomi og i en åpen økonomi?** -\n",
    "<br> d)\n",
    "<br> e)\n",
    "<br> f)\n",
    "<br> g)\n",
    "<br> h)\n",
    "<br> i)\n",
    "<br> j)"
   ]
  },
  {
   "cell_type": "code",
   "execution_count": null,
   "id": "4ccc0c1d-8e3b-424a-9825-b30509fcf8b3",
   "metadata": {},
   "outputs": [],
   "source": []
  }
 ],
 "metadata": {
  "kernelspec": {
   "display_name": "Python 3 (ipykernel)",
   "language": "python",
   "name": "python3"
  },
  "language_info": {
   "codemirror_mode": {
    "name": "ipython",
    "version": 3
   },
   "file_extension": ".py",
   "mimetype": "text/x-python",
   "name": "python",
   "nbconvert_exporter": "python",
   "pygments_lexer": "ipython3",
   "version": "3.9.15"
  }
 },
 "nbformat": 4,
 "nbformat_minor": 5
}
