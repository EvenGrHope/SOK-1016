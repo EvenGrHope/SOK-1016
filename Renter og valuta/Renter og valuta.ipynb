{
 "cells": [
  {
   "cell_type": "markdown",
   "id": "0c862adf-f534-426b-8762-bd5229f31d80",
   "metadata": {},
   "source": [
    "## Renter og valuta"
   ]
  },
  {
   "cell_type": "code",
   "execution_count": 1,
   "id": "4f265af2-9e0e-4a7e-9959-4bad71954ffd",
   "metadata": {},
   "outputs": [],
   "source": [
    "# Laster inn pakker\n",
    "import numpy as np\n",
    "from sympy import *\n",
    "from matplotlib import pyplot as plt"
   ]
  },
  {
   "cell_type": "markdown",
   "id": "bfe0c56f-8ec7-40e6-9a73-223b72f63c2f",
   "metadata": {},
   "source": [
    "<hr/>"
   ]
  },
  {
   "cell_type": "markdown",
   "id": "54d47481-e58a-4132-a2c0-31f2152969c4",
   "metadata": {},
   "source": [
    "#### Introduksjon til renter og valuta"
   ]
  },
  {
   "cell_type": "markdown",
   "id": "4d154b83-ef0a-44c3-9121-e2295d48d5fb",
   "metadata": {},
   "source": [
    "**Renter og valuta i Norge**\n",
    "<br> Norge er en liten økonomi relativt sett - sammenliknet med f.eks. USA, Tyskland og Kina.\n",
    "<br> Det betyr at vi i svært liten grad påvirker verdensprisene, slik at vi sånn sett er \"prisfaste\".\n",
    "<br> Så en handelskrig mellom store økonomier vil få store konsekvenser for global handel. Produkter og innsatsfaktorer kan øke betraktelig i pris. \n",
    "<br> Norge er også en åpen økonomi. Noe som betyr at vi har betydelige økonomiske samhandlinger med andre land.\n",
    "<br> Norge importerer mange produkter - det vil si at vi kjøper fra utlandet. \n",
    "<br> F.eks på importvarer til Norge er: Telefoner, Biler, Frukt, osv... Dette er varer andre land har spesialisert seg på å produsere og som ikke produseres her i Norge.\n",
    "<br> Norge eksporterer også en del produkter - det vil si at vi selger til utlandet.\n",
    "<br> F.eks på eksportvarer fra Norge er: Olje, Gass, Tømmer, Fisk, osv... Dette er varer Norge har spesialisert seg på og har tilgang på. I 2018 var eksporten i Norge på nesten 1.000 milliarder kroner. \n",
    "<br> Visst vi tar eksporten mot BNP:\n",
    "<br> $\\frac{Eksport}{BNP} = ca. 40$%\n",
    "<br> Eksport er som vi kan se svært viktig for Norge.\n",
    "<br> Siden eksport er såpass viktig for Norge, blir også kronerkursen svært viktig for Norge.\n",
    "\n",
    "**Kronekurs som et ferie-eksempel**\n",
    "<br> Du har sansynligvis planlagt ferie en gang der det har blitt snakk om kronen - om den er \"sterk\" eller \"svak\".\n",
    "<br> Fra et forbrukerperspektiv så er det gunstig for deg at kronen er \"sterk\", og ugunstig at kronen er \"svak\". Fordi når kronen er \"sterk\" får du mer for pengene dine i utlandet, og motsatt ved en \"svak\" krone. Samtidig får turister i Norge mindre for pengene sine når kronen er \"sterk\", og motsatt ved en \"svak\" krone. \n",
    "<br> Faktisk er det sånn at din ferie i utlandet regnes som import, mens en turists ferie i Norge regnes som eksport. \n",
    "<br> Så en sterk krone er bra for import, men dårlig for eksport. \n",
    "\n",
    "**Kronekurs**\n",
    "<br> Fra et mer nasjonalt og helhetlig perspektiv er det gunstig om kronen er svak. \n",
    "<br> For når kronen er svak stimuleres utlendinger til å handle norske varer fordi de får mer for pengene sine enn om kronen hadde vært sterk. \n",
    "<br> *En svak krone førerer altså til økt eksport av norske produkter, og dermed bedre konkuranseevne for norske bedrifter.*\n",
    "<br> I tilegg kan vi si at når eksporten er stor så betyr det at mange nordmenn har arbeid, dette fører til økt velferd for disse personene, trygdeutbetalingene reduseres og skatteinntektene øker.\n",
    "\n",
    "**Kronekursen de siste årene**\n",
    "<br> I Norge har kronekursen svekket seg betydelig mot andre valutaer siden 2014.\n",
    "<br> Dette har ført til at flere utlendinger og nordmenn har valgt å feriere i Norge, noe turistnæringen jubler over.\n",
    "<br> Siden kronen har svekket seg får vi mindre for pengene i utlandet, og turister får mer for pengene i Norge, dermed velger flere å feriere i Norge."
   ]
  },
  {
   "cell_type": "markdown",
   "id": "1a3e42f7-f60c-47d8-802a-34d619fc3dc1",
   "metadata": {},
   "source": [
    "<hr/>"
   ]
  },
  {
   "cell_type": "markdown",
   "id": "495f42d7-3dc9-4b5a-929a-17da3de840b2",
   "metadata": {},
   "source": [
    "#### Nominell valutakurs og kronekurs"
   ]
  },
  {
   "cell_type": "markdown",
   "id": "52cb1ced-20a8-4928-b70f-1a46935d55bb",
   "metadata": {},
   "source": [
    "**Valutakurs**\n",
    "<br> *Beskriver hvor mye en valuta er verdt, målt i den andre valutaen.*\n",
    "<br> Valuta betyr pengeenhet og valutaen i Norge er \"NOK = Norsk kroner. Noen andre store valutaer er \"USD = US dollar\" og \"EUR = Euro\".\n",
    "\n",
    "**Nominell valutakurs**\n",
    "<br> *Prisen på utenlandsk pengeenhet, målt i NOK.*\n",
    "<br> F.eks. hvor mange NOK må man betale for en EUR.\n",
    "<br> Så en nominell valutakurs mellom NOK og EUR = ca. 10.96 kr (02.02.2023).\n",
    "<br> Vi leser det over som \"Det koster 10.96 NOK for 1 EUR\".\n",
    "<br> *Nominell valutakurs = $E$*\n",
    "\n",
    "**Nominell kronekurs**\n",
    "<br> *Prisen på NOK, målt i utenlandske pengeenheter.*\n",
    "<br> F.eks. hvor mange EUR må man betale for en NOK.\n",
    "<br> Så en nominell kronekurs mellom EUR og NOR = ca. 0.091 EUR (02.02.2023).\n",
    "<br> Vi leser det over som \"Det koster 0.091 EUR for 1 NOK\".\n",
    "<br> *Nominell kronekurs = $\\frac{1}{E}$*\n",
    "\n",
    "**Eksempel**\n",
    "<br> Nominell valutakurs er 9.6 NOK/EUR $\\rightarrow$ Det koster 9.6 kroner per euro.\n",
    "<br> Hva er nominell kronekurs?\n",
    "<br> Nominell kronekurs = $\\frac{1}{E} = \\frac{1}{9.6} = ca. 0.104$\n",
    "<br> Det koster altså 0.104 EUR pr NOK."
   ]
  },
  {
   "cell_type": "markdown",
   "id": "c3a4dae7-b72e-4b56-99ff-d4be5991ab64",
   "metadata": {},
   "source": [
    "<hr/>"
   ]
  },
  {
   "cell_type": "markdown",
   "id": "3043d660-48b6-4ea5-8d9c-6120fbfd00fc",
   "metadata": {},
   "source": [
    "#### Realvalutakurs"
   ]
  },
  {
   "cell_type": "markdown",
   "id": "e89c4ac6-35c1-4bf6-8776-25fd2ef2a73d",
   "metadata": {},
   "source": [
    "**Realvalutakurs**\n",
    "<br>*Forholdet mellom utenlandsk prisnivå og prisnivå hjemme*\n",
    "<br> Formelen for realvalutakurs er gitt ved:\n",
    "<br> $\\epsilon = \\frac{E*P^*}{P}$\n",
    "<br> $\\epsilon =$ Realvalutakursen\n",
    "<br> $E =$ Nominelle valutakurs\n",
    "<br> $P^* =$ Prisnivå utlandet\n",
    "<br> $P =$ Prisnivå hjemme\n",
    "<br> Når vi ser på telleren i formelene får vi:\n",
    "<br> $E*P^*$\n",
    "<br> Dette er prisnivået i landet vi ser på konvertert til norske kroner. Det er egentlig dette du gjør når du er på ferie og skal finne ut hvor mye en vare koster i NOK.\n",
    "\n",
    "**Eksempel**\n",
    "<br> Valuttakursen mellom NOK/EUR = 8 $\\rightarrow$ Altså 8 kroner pr euro (nominell valutakurs) $\\rightarrow$ $E = 8$.\n",
    "<br> Prisnivået i Norge er 160 $\\rightarrow$ $P = 160$.\n",
    "<br> Prisnivået i Euroområdet er 20 $\\rightarrow$ $P^* = 20$.\n",
    "<br> Formelen for realvalutakurs er gitt ved:\n",
    "<br> $\\epsilon = \\frac{E*P^*}{P}$\n",
    "<br> $\\epsilon = \\frac{8*20^*}{160} = \\frac{160}{160} = 1$\n",
    "<br> Når realvalutakursen er lik akkurat 1 betyr det at prisnivået i Norge og euroområdet er likt. \n",
    "<br>\n",
    "<br> Visst vi skrur opp prisnivået i Norge til 180, får vi:\n",
    "<br> $\\epsilon = \\frac{8*20^*}{180} = \\frac{160}{180} = 0.88$\n",
    "<br> Når realvalutakursen er < 1 betyr det at prisnivået i Norge er høyere enn euroområdet.\n",
    "<br> For å finne nøyaktig hvor mye høyere prisnivået er i Norge enn euroomårdet finner vi på følgende måte:\n",
    "<br> $(1-0.88) * 100$% $= 12$%\n",
    "<br> Det betyr at prisniåvet i Norge er 12% høyere enn i euroområdet.\n",
    "<br>\n",
    "<br> Visst vi skrur opp prisnivået i euroomårdet til 22.5, får vi:\n",
    "<br> $\\epsilon = \\frac{8*22.5^*}{160} = \\frac{180}{160} = 1.125$\n",
    "<br> Når realvalutakursen er > 1 betyr det at prisnivået i euroområdet er høyere en i Norge.\n",
    "<br> For å finne nøyaktig hvor mye høyere prisnivået er i Norge enn euroomårdet finner vi på følgende måte:\n",
    "<br> $(1-1.125) * 100$% $= -12.5$%\n",
    "<br> Det betyr at prisniåvet i Norge er 12.5% lavere enn i euroområdet."
   ]
  },
  {
   "cell_type": "markdown",
   "id": "49833533-2215-49cf-be4e-72df10e4cff5",
   "metadata": {},
   "source": [
    "<hr/>"
   ]
  },
  {
   "cell_type": "markdown",
   "id": "69331b9e-a6d4-4514-b590-2046f80bcc2c",
   "metadata": {},
   "source": [
    "#### Nominell rente og realrente (Fisher likningen)"
   ]
  },
  {
   "cell_type": "markdown",
   "id": "c03a40b5-e6f4-4292-aeec-87d423a61034",
   "metadata": {},
   "source": [
    "**Renter** er det du må betale for å låne penger, oppgitt i prosent pr. år.* \n",
    "<br> Det man får dersom man har penger stående i banken $\\leftarrow$ Banken låner pengene dine\n",
    "\n",
    "**Nominell rente** er den renten som er oppgitt.\n",
    "<br> F.eks. du tar opp billån hvor det står at den nominelle renten er på 7%.\n",
    "\n",
    "**Realrente** tar hensyn til at pengenes kjøpskraft faller på grunn av prisstigning (inflasjon).\n",
    "<br> Realrente måles som differansen mellom nominell rente og inflasjon.\n",
    "<br> Formelen for realrente er gitt som:\n",
    "<br> $r = i - \\pi$\n",
    "<br> $r =$ Realrente\n",
    "<br> $i =$ Nominell rente\n",
    "<br> $\\pi =$ Inflasjon\n",
    "<br> Prisstabilitet ($\\pi = 0$) $\\rightarrow$ $r=i$\n",
    "<br> Inflasjon ($\\pi > 0$) $\\rightarrow$ $r<i$\n",
    "<br> Deflasjon ($\\pi < 0$) $\\rightarrow$ $r>i$\n",
    "\n",
    "**Eksempel - Realrente**\n",
    "<br> Billån = 100.000 kr.\n",
    "<br> Nominell rente = 7% pr. år.\n",
    "<br> Inflasjon = 3%\n",
    "<br> $100.000 * 1.07 = 107.000$ skal betales ved forfall. \n",
    "<br> Men visst det har vært 3% inflasjon det året vil kjøpekraften til det lånet ha gått ned med 3% fra du fikk pengene til du skal betale tilbake.\n",
    "<br> Derfor skal vi finne realrenten:\n",
    "<br> $r = i - \\pi$\n",
    "<br> $r = 7 - 3 = 4$%\n",
    "\n",
    "**Høy inflasjon:** Visst det er høy inflasjon vil bankene sette opp renten for å få en kompensasjon for forventet inflasjon \n",
    "<br> Dersom de gir ut lån med 2% nominell rente, mens det har vært 4% inflasjon i perioden, vil de ikke ha tjent noen penger på å lånt ut penger.\n",
    "<br> Nominell rente vil derfor bli generelt høyere i perioder med høy inflasjon."
   ]
  },
  {
   "cell_type": "markdown",
   "id": "e08e0967-67b6-40b5-880c-a85386512ff1",
   "metadata": {},
   "source": [
    "<hr/>"
   ]
  },
  {
   "cell_type": "markdown",
   "id": "4bab203b-9559-49c7-ba7f-25ee99efefeb",
   "metadata": {},
   "source": [
    "#### Appresiering og depresiering"
   ]
  },
  {
   "cell_type": "markdown",
   "id": "37e761cf-471b-4b6b-a786-bc6faa0742cd",
   "metadata": {},
   "source": [
    "Vi skal nå se på hva det betyr at den nominelle valutakursen endrer seg noe som skjer i form av *appresiering* og *depresiering*.\n",
    "\n",
    "**Appresiering**\n",
    "<br> En appresiering av kronen skjer når den nominelle valutakursen blir lavere.\n",
    "<br> Appresiering av kronen betyr at den styrker seg mot en annen valuta, altså at vi må betale færre kroner for en enhet av en utenlandske valuta.\n",
    "\n",
    "**Eksempel på appresiering**\n",
    "<br> Den nominelle valutakursen mellom NOK og EUR var 9 i går. I dag har valutakursen blitt redusert til 8.5.\n",
    "<br> I går måtte vi betale 9 NOK for 1 EUR.\n",
    "<br> I dag må vi bare betale 8.5 NOK for 1 EUR.\n",
    "<br> Kronen har dermed blitt styrket gjennom en appresiering. Da det ble billigere å kjøpe 1 EUR.\n",
    "\n",
    "**Depresiering**\n",
    "<br> En depresiering av kronen skjer når den nominelle valutakursen blir høyere.\n",
    "<br> Depresiering av kronen betyr at den svekker seg mot en annen valuta, altså at vi må betale flere kroner for en enhet av en utenlandske valuta.\n",
    "\n",
    "**Eksempel på depresiering**\n",
    "<br> Den nominelle valutakursen mellom NOK og EUR var 9 i går. I dag har valutakursen blitt økt til 9.5.\n",
    "<br> I går måtte vi betale 9 NOK for 1 EUR.\n",
    "<br> I dag må vi betale 9.5 NOK for 1 EUR.\n",
    "<br> Kronen har dermed blitt svekket gjennom en depresiering. Da det ble dyrere å kjøpe 1 EUR."
   ]
  },
  {
   "cell_type": "markdown",
   "id": "3afc5bab-ac63-4fa8-9ef5-7273dd1b5a4b",
   "metadata": {},
   "source": [
    "<hr/>"
   ]
  },
  {
   "cell_type": "markdown",
   "id": "6916ed4c-ba26-4ff3-a827-cf3dbe6d6d87",
   "metadata": {},
   "source": [
    "#### Konkuranseevne"
   ]
  },
  {
   "cell_type": "markdown",
   "id": "ceab4155-c03e-4f23-bd99-ea192029fedb",
   "metadata": {},
   "source": [
    "*Et land sin evne til å konkurrere med andre land når det kommer til produksjon av varer og tjenester.*\n",
    "<br> Et land sin konkuranseevne kan måles ved realvalutakursen. \n",
    "<br> Formelen for realvalutakurs er gitt ved:\n",
    "<br> $\\epsilon = \\frac{E*P^*}{P}$\n",
    "<br> Et lands konkuranseevne avhenger da altså av de tre utrykkene i formelene (nominell valutakurs, prisnivå utlandet, prisnivå hjemme).\n",
    "\n",
    "La oss si vi får en økning i valutakursen $E$ (deprisiering av kronen) $\\rightarrow$ økt realvalutakurs (reel deprisiering) $\\rightarrow$ relativt billigere med norske produkter sammenlignet med utenlandske produkter $\\rightarrow$ styrket konkuranseevnen.\n",
    "<br> Vi vil se samme effekt ved økning i valutakursen, økt prisnivå i utlandet og lavere prisnivå i Norge. Altså styrket konkuranseevne.\n",
    "\n",
    "La oss si vi får en lavere valutakurs $E$ (appresiering av kronen) $\\rightarrow$ svekket realvalutakurs (reel appresiering) $\\rightarrow$ relativt dyrere med norske produkter sammenlignet med utenlandske produkter $\\rightarrow$ svekket konkuranseevnen.\n",
    "<br> Vi vil se samme effekt ved lavere i valutakurs, lavere prisnivå i utlandet og høyere prisnivå i Norge. Altså svekket konkuranseevne."
   ]
  },
  {
   "cell_type": "markdown",
   "id": "168c454a-afe0-44ae-832a-89cbf819a3c2",
   "metadata": {},
   "source": [
    "<hr/>"
   ]
  },
  {
   "cell_type": "markdown",
   "id": "4bfeb67d-1fa3-46e8-b20e-0b7896f2bf4c",
   "metadata": {},
   "source": [
    "#### Udekket renteparitet"
   ]
  },
  {
   "cell_type": "markdown",
   "id": "6ab977a5-348f-4f7c-8891-c176956cb24c",
   "metadata": {},
   "source": [
    "Forutsettninger til denne oppgaven:\n",
    "- Vi har ett velfungerende marked.\n",
    "- Penger kan flyttes fritt mellom ulike valutaer \n",
    "\n",
    "Teorien om udekket renteparitet går ut på at avkastningen som oppnåes ved å plasere penger i en valuta vil være den samme om man plasserer den i innenlands valuta eller i utenlands valuta. Dette grunnet en antagelse om at endringer i valutakursen vil motvirke eventuelle forskjeller mellom rentenivået i to land. \n",
    "<br> Utrykket for udekket renteparitet er gitt ved:\n",
    "<br>$i = i^f + \\frac{E^e}{E}$\n",
    "<br>$i =$ avkastning i hjemmlandet\n",
    "<br>$i^f =$ avkastiningen i utlandet\n",
    "<br>$\\frac{E^e}{E} =$ forventet deevalueringsrate, altså endring i forventet valutakurs over valutakursen.\n",
    "\n",
    "Aktørene i økonomien søker høyest mulig avkastning og vil derfor plassere pengene sine der renten er høyest. \n",
    "\n",
    "Anta at renten i Norge øker og er derfor høyere en renten i utlandet. Man kan tenke seg at det vil gi høyere avkastning i Norge pågrunn av den høyere renten. Likevell vil økt rente i Norge gi forventninger om lavere valutakurs noe som umiddelbart vil gi høyere etterspørsel etter den Norske kronen. Da vil den Norske kronen styrkes umdidelbart og valutakursen vil bli lavere. Det vil dermed blir dyrere for utenlandske aktører å kjøpe NOK. Når det blir dyrere å kjøpe NOK vil den ekstra avkastningen man forventer å få ved å plasere pengene i Norge, grunnet den økte renten blir spist opp av endringene i valutakursen. På denne måte justeres valutakursen slik at det ikke utgjøt en forskjell å plasere pengene sine i Norge fremfor å plassere dem i utlandet når rentenivået i de to landene er ulike. Tilsvarende effekt ville vi fått om rentene i utlandet reduseres.\n",
    "\n",
    "Vi vil få motsatt effekt om renten i Norge reduseres eller renten i utlandet øker."
   ]
  },
  {
   "cell_type": "markdown",
   "id": "00c9d88d-80aa-4a0c-9189-b27743e03796",
   "metadata": {},
   "source": [
    "<hr/>"
   ]
  }
 ],
 "metadata": {
  "kernelspec": {
   "display_name": "Python 3 (ipykernel)",
   "language": "python",
   "name": "python3"
  },
  "language_info": {
   "codemirror_mode": {
    "name": "ipython",
    "version": 3
   },
   "file_extension": ".py",
   "mimetype": "text/x-python",
   "name": "python",
   "nbconvert_exporter": "python",
   "pygments_lexer": "ipython3",
   "version": "3.9.15"
  }
 },
 "nbformat": 4,
 "nbformat_minor": 5
}
